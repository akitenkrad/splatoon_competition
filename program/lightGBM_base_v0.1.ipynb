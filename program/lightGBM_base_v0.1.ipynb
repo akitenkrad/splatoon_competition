{
 "cells": [
  {
   "cell_type": "markdown",
   "metadata": {},
   "source": [
    "# 内容\n",
    "- lightGBMモデル初版\n",
    "- ターゲットエンコーディング：Holdout TS\n",
    "- 外部データ3つ(ステージ面積1,ステージ面積2,ブキ)を結合\n",
    "    - ステージ面積1:\n",
    "    https://probspace-stg.s3-ap-northeast-1.amazonaws.com/uploads/user/c10947bba5cde4ad3dd4a0d42a0ec35b/files/2020-09-06-0320/stagedata.csv\n",
    "    - ステージ面積2:https://stat.ink/api-info/stage2\n",
    "    - ブキ:https://stat.ink/api-info/weapon2"
   ]
  },
  {
   "cell_type": "code",
   "execution_count": 187,
   "metadata": {},
   "outputs": [],
   "source": [
    "# ライブラリのインポート\n",
    "import pandas as pd\n",
    "import numpy as np\n",
    "import re\n",
    "import matplotlib.pyplot as plt\n",
    "import seaborn as sns\n",
    "import lightgbm as lgb\n",
    "from sklearn.model_selection import train_test_split\n",
    "from sklearn.model_selection import KFold\n",
    "from sklearn.metrics import accuracy_score\n",
    "import warnings\n",
    "warnings.filterwarnings('ignore')"
   ]
  },
  {
   "cell_type": "code",
   "execution_count": 188,
   "metadata": {},
   "outputs": [],
   "source": [
    "# データの読込\n",
    "train = pd.read_csv(\"../data/train_data.csv\")\n",
    "test = pd.read_csv('../data/test_data.csv')"
   ]
  },
  {
   "cell_type": "markdown",
   "metadata": {},
   "source": [
    "# データの確認"
   ]
  },
  {
   "cell_type": "code",
   "execution_count": 189,
   "metadata": {},
   "outputs": [],
   "source": [
    "def inspection_datas(df):\n",
    "    print('######################################')\n",
    "    print('①サイズ（行数、列数）の確認')\n",
    "    print(df.shape)\n",
    "    print('######################################')\n",
    "    print('②最初の５行の表示')\n",
    "    display(df.head())\n",
    "    print('######################################')\n",
    "    print('③各行のデータ型の確認（オブジェクト型の有無）')\n",
    "    display(df.info())\n",
    "    display(df.select_dtypes(include=object).columns)\n",
    "    print('######################################')\n",
    "    print('④各種統計値の確認（③で、Objectのものは統計されない）')\n",
    "    display(df.describe())\n",
    "    print('######################################')\n",
    "    print('➄欠損値がある列の確認')\n",
    "    null_df =df.isnull().sum()[df.columns[df.isnull().sum()!=0]]\n",
    "    display(null_df)\n",
    "    display(null_df.shape)\n",
    "    print('######################################')\n",
    "    print('⑥相関係数のヒートマップ')\n",
    "    sns.heatmap(df.corr())"
   ]
  },
  {
   "cell_type": "code",
   "execution_count": 190,
   "metadata": {
    "scrolled": false
   },
   "outputs": [
    {
     "name": "stdout",
     "output_type": "stream",
     "text": [
      "######################################\n",
      "①サイズ（行数、列数）の確認\n",
      "(66125, 32)\n",
      "######################################\n",
      "②最初の５行の表示\n"
     ]
    },
    {
     "data": {
      "text/html": [
       "<div>\n",
       "<style scoped>\n",
       "    .dataframe tbody tr th:only-of-type {\n",
       "        vertical-align: middle;\n",
       "    }\n",
       "\n",
       "    .dataframe tbody tr th {\n",
       "        vertical-align: top;\n",
       "    }\n",
       "\n",
       "    .dataframe thead th {\n",
       "        text-align: right;\n",
       "    }\n",
       "</style>\n",
       "<table border=\"1\" class=\"dataframe\">\n",
       "  <thead>\n",
       "    <tr style=\"text-align: right;\">\n",
       "      <th></th>\n",
       "      <th>id</th>\n",
       "      <th>period</th>\n",
       "      <th>game-ver</th>\n",
       "      <th>lobby-mode</th>\n",
       "      <th>lobby</th>\n",
       "      <th>mode</th>\n",
       "      <th>stage</th>\n",
       "      <th>A1-weapon</th>\n",
       "      <th>A1-rank</th>\n",
       "      <th>A1-level</th>\n",
       "      <th>...</th>\n",
       "      <th>B2-weapon</th>\n",
       "      <th>B2-rank</th>\n",
       "      <th>B2-level</th>\n",
       "      <th>B3-weapon</th>\n",
       "      <th>B3-rank</th>\n",
       "      <th>B3-level</th>\n",
       "      <th>B4-weapon</th>\n",
       "      <th>B4-rank</th>\n",
       "      <th>B4-level</th>\n",
       "      <th>y</th>\n",
       "    </tr>\n",
       "  </thead>\n",
       "  <tbody>\n",
       "    <tr>\n",
       "      <th>0</th>\n",
       "      <td>1</td>\n",
       "      <td>2019-10-15T20:00:00+00:00</td>\n",
       "      <td>5.0.1</td>\n",
       "      <td>regular</td>\n",
       "      <td>standard</td>\n",
       "      <td>nawabari</td>\n",
       "      <td>sumeshi</td>\n",
       "      <td>sshooter_becchu</td>\n",
       "      <td>NaN</td>\n",
       "      <td>139</td>\n",
       "      <td>...</td>\n",
       "      <td>hokusai_becchu</td>\n",
       "      <td>NaN</td>\n",
       "      <td>26.0</td>\n",
       "      <td>herocharger_replica</td>\n",
       "      <td>NaN</td>\n",
       "      <td>68.0</td>\n",
       "      <td>sharp_neo</td>\n",
       "      <td>NaN</td>\n",
       "      <td>31.0</td>\n",
       "      <td>1</td>\n",
       "    </tr>\n",
       "    <tr>\n",
       "      <th>1</th>\n",
       "      <td>2</td>\n",
       "      <td>2019-12-14T04:00:00+00:00</td>\n",
       "      <td>5.0.1</td>\n",
       "      <td>regular</td>\n",
       "      <td>standard</td>\n",
       "      <td>nawabari</td>\n",
       "      <td>arowana</td>\n",
       "      <td>parashelter_sorella</td>\n",
       "      <td>NaN</td>\n",
       "      <td>198</td>\n",
       "      <td>...</td>\n",
       "      <td>squiclean_b</td>\n",
       "      <td>NaN</td>\n",
       "      <td>118.0</td>\n",
       "      <td>campingshelter</td>\n",
       "      <td>NaN</td>\n",
       "      <td>168.0</td>\n",
       "      <td>sputtery_clear</td>\n",
       "      <td>NaN</td>\n",
       "      <td>151.0</td>\n",
       "      <td>0</td>\n",
       "    </tr>\n",
       "    <tr>\n",
       "      <th>2</th>\n",
       "      <td>3</td>\n",
       "      <td>2019-12-25T14:00:00+00:00</td>\n",
       "      <td>5.0.1</td>\n",
       "      <td>gachi</td>\n",
       "      <td>standard</td>\n",
       "      <td>hoko</td>\n",
       "      <td>ama</td>\n",
       "      <td>nzap89</td>\n",
       "      <td>a-</td>\n",
       "      <td>114</td>\n",
       "      <td>...</td>\n",
       "      <td>nzap85</td>\n",
       "      <td>a+</td>\n",
       "      <td>163.0</td>\n",
       "      <td>prime_becchu</td>\n",
       "      <td>a-</td>\n",
       "      <td>160.0</td>\n",
       "      <td>dualsweeper_custom</td>\n",
       "      <td>a</td>\n",
       "      <td>126.0</td>\n",
       "      <td>0</td>\n",
       "    </tr>\n",
       "    <tr>\n",
       "      <th>3</th>\n",
       "      <td>4</td>\n",
       "      <td>2019-11-11T14:00:00+00:00</td>\n",
       "      <td>5.0.1</td>\n",
       "      <td>regular</td>\n",
       "      <td>standard</td>\n",
       "      <td>nawabari</td>\n",
       "      <td>engawa</td>\n",
       "      <td>bamboo14mk1</td>\n",
       "      <td>NaN</td>\n",
       "      <td>336</td>\n",
       "      <td>...</td>\n",
       "      <td>liter4k</td>\n",
       "      <td>NaN</td>\n",
       "      <td>189.0</td>\n",
       "      <td>promodeler_mg</td>\n",
       "      <td>NaN</td>\n",
       "      <td>194.0</td>\n",
       "      <td>hotblaster_custom</td>\n",
       "      <td>NaN</td>\n",
       "      <td>391.0</td>\n",
       "      <td>0</td>\n",
       "    </tr>\n",
       "    <tr>\n",
       "      <th>4</th>\n",
       "      <td>5</td>\n",
       "      <td>2019-12-14T06:00:00+00:00</td>\n",
       "      <td>5.0.1</td>\n",
       "      <td>gachi</td>\n",
       "      <td>standard</td>\n",
       "      <td>hoko</td>\n",
       "      <td>chozame</td>\n",
       "      <td>bold_7</td>\n",
       "      <td>x</td>\n",
       "      <td>299</td>\n",
       "      <td>...</td>\n",
       "      <td>sputtery_hue</td>\n",
       "      <td>x</td>\n",
       "      <td>45.0</td>\n",
       "      <td>bucketslosher_soda</td>\n",
       "      <td>x</td>\n",
       "      <td>246.0</td>\n",
       "      <td>wakaba</td>\n",
       "      <td>x</td>\n",
       "      <td>160.0</td>\n",
       "      <td>1</td>\n",
       "    </tr>\n",
       "  </tbody>\n",
       "</table>\n",
       "<p>5 rows × 32 columns</p>\n",
       "</div>"
      ],
      "text/plain": [
       "   id                     period game-ver lobby-mode     lobby      mode  \\\n",
       "0   1  2019-10-15T20:00:00+00:00    5.0.1    regular  standard  nawabari   \n",
       "1   2  2019-12-14T04:00:00+00:00    5.0.1    regular  standard  nawabari   \n",
       "2   3  2019-12-25T14:00:00+00:00    5.0.1      gachi  standard      hoko   \n",
       "3   4  2019-11-11T14:00:00+00:00    5.0.1    regular  standard  nawabari   \n",
       "4   5  2019-12-14T06:00:00+00:00    5.0.1      gachi  standard      hoko   \n",
       "\n",
       "     stage            A1-weapon A1-rank  A1-level ...       B2-weapon B2-rank  \\\n",
       "0  sumeshi      sshooter_becchu     NaN       139 ...  hokusai_becchu     NaN   \n",
       "1  arowana  parashelter_sorella     NaN       198 ...     squiclean_b     NaN   \n",
       "2      ama               nzap89      a-       114 ...          nzap85      a+   \n",
       "3   engawa          bamboo14mk1     NaN       336 ...         liter4k     NaN   \n",
       "4  chozame               bold_7       x       299 ...    sputtery_hue       x   \n",
       "\n",
       "   B2-level            B3-weapon B3-rank  B3-level           B4-weapon  \\\n",
       "0      26.0  herocharger_replica     NaN      68.0           sharp_neo   \n",
       "1     118.0       campingshelter     NaN     168.0      sputtery_clear   \n",
       "2     163.0         prime_becchu      a-     160.0  dualsweeper_custom   \n",
       "3     189.0        promodeler_mg     NaN     194.0   hotblaster_custom   \n",
       "4      45.0   bucketslosher_soda       x     246.0              wakaba   \n",
       "\n",
       "  B4-rank  B4-level  y  \n",
       "0     NaN      31.0  1  \n",
       "1     NaN     151.0  0  \n",
       "2       a     126.0  0  \n",
       "3     NaN     391.0  0  \n",
       "4       x     160.0  1  \n",
       "\n",
       "[5 rows x 32 columns]"
      ]
     },
     "metadata": {},
     "output_type": "display_data"
    },
    {
     "name": "stdout",
     "output_type": "stream",
     "text": [
      "######################################\n",
      "③各行のデータ型の確認（オブジェクト型の有無）\n",
      "<class 'pandas.core.frame.DataFrame'>\n",
      "RangeIndex: 66125 entries, 0 to 66124\n",
      "Data columns (total 32 columns):\n",
      "id            66125 non-null int64\n",
      "period        66125 non-null object\n",
      "game-ver      66125 non-null object\n",
      "lobby-mode    66125 non-null object\n",
      "lobby         66125 non-null object\n",
      "mode          66125 non-null object\n",
      "stage         66125 non-null object\n",
      "A1-weapon     66125 non-null object\n",
      "A1-rank       51681 non-null object\n",
      "A1-level      66125 non-null int64\n",
      "A2-weapon     66125 non-null object\n",
      "A2-rank       51681 non-null object\n",
      "A2-level      66125 non-null float64\n",
      "A3-weapon     66125 non-null object\n",
      "A3-rank       51681 non-null object\n",
      "A3-level      66125 non-null float64\n",
      "A4-weapon     66074 non-null object\n",
      "A4-rank       51638 non-null object\n",
      "A4-level      66074 non-null float64\n",
      "B1-weapon     66125 non-null object\n",
      "B1-rank       51681 non-null object\n",
      "B1-level      66125 non-null int64\n",
      "B2-weapon     66125 non-null object\n",
      "B2-rank       51681 non-null object\n",
      "B2-level      66125 non-null float64\n",
      "B3-weapon     66124 non-null object\n",
      "B3-rank       51681 non-null object\n",
      "B3-level      66124 non-null float64\n",
      "B4-weapon     66058 non-null object\n",
      "B4-rank       51624 non-null object\n",
      "B4-level      66058 non-null float64\n",
      "y             66125 non-null int64\n",
      "dtypes: float64(6), int64(4), object(22)\n",
      "memory usage: 16.1+ MB\n"
     ]
    },
    {
     "data": {
      "text/plain": [
       "None"
      ]
     },
     "metadata": {},
     "output_type": "display_data"
    },
    {
     "data": {
      "text/plain": [
       "Index(['period', 'game-ver', 'lobby-mode', 'lobby', 'mode', 'stage',\n",
       "       'A1-weapon', 'A1-rank', 'A2-weapon', 'A2-rank', 'A3-weapon', 'A3-rank',\n",
       "       'A4-weapon', 'A4-rank', 'B1-weapon', 'B1-rank', 'B2-weapon', 'B2-rank',\n",
       "       'B3-weapon', 'B3-rank', 'B4-weapon', 'B4-rank'],\n",
       "      dtype='object')"
      ]
     },
     "metadata": {},
     "output_type": "display_data"
    },
    {
     "name": "stdout",
     "output_type": "stream",
     "text": [
      "######################################\n",
      "④各種統計値の確認（③で、Objectのものは統計されない）\n"
     ]
    },
    {
     "data": {
      "text/html": [
       "<div>\n",
       "<style scoped>\n",
       "    .dataframe tbody tr th:only-of-type {\n",
       "        vertical-align: middle;\n",
       "    }\n",
       "\n",
       "    .dataframe tbody tr th {\n",
       "        vertical-align: top;\n",
       "    }\n",
       "\n",
       "    .dataframe thead th {\n",
       "        text-align: right;\n",
       "    }\n",
       "</style>\n",
       "<table border=\"1\" class=\"dataframe\">\n",
       "  <thead>\n",
       "    <tr style=\"text-align: right;\">\n",
       "      <th></th>\n",
       "      <th>id</th>\n",
       "      <th>A1-level</th>\n",
       "      <th>A2-level</th>\n",
       "      <th>A3-level</th>\n",
       "      <th>A4-level</th>\n",
       "      <th>B1-level</th>\n",
       "      <th>B2-level</th>\n",
       "      <th>B3-level</th>\n",
       "      <th>B4-level</th>\n",
       "      <th>y</th>\n",
       "    </tr>\n",
       "  </thead>\n",
       "  <tbody>\n",
       "    <tr>\n",
       "      <th>count</th>\n",
       "      <td>66125.000000</td>\n",
       "      <td>66125.000000</td>\n",
       "      <td>66125.000000</td>\n",
       "      <td>66125.000000</td>\n",
       "      <td>66074.000000</td>\n",
       "      <td>66125.000000</td>\n",
       "      <td>66125.000000</td>\n",
       "      <td>66124.000000</td>\n",
       "      <td>66058.000000</td>\n",
       "      <td>66125.000000</td>\n",
       "    </tr>\n",
       "    <tr>\n",
       "      <th>mean</th>\n",
       "      <td>33063.000000</td>\n",
       "      <td>208.838926</td>\n",
       "      <td>155.351698</td>\n",
       "      <td>153.175229</td>\n",
       "      <td>156.001619</td>\n",
       "      <td>156.378722</td>\n",
       "      <td>152.764749</td>\n",
       "      <td>153.105393</td>\n",
       "      <td>157.869736</td>\n",
       "      <td>0.524703</td>\n",
       "    </tr>\n",
       "    <tr>\n",
       "      <th>std</th>\n",
       "      <td>19088.787612</td>\n",
       "      <td>118.986528</td>\n",
       "      <td>96.183950</td>\n",
       "      <td>95.470733</td>\n",
       "      <td>95.524571</td>\n",
       "      <td>97.109501</td>\n",
       "      <td>95.373534</td>\n",
       "      <td>94.891705</td>\n",
       "      <td>95.777647</td>\n",
       "      <td>0.499393</td>\n",
       "    </tr>\n",
       "    <tr>\n",
       "      <th>min</th>\n",
       "      <td>1.000000</td>\n",
       "      <td>1.000000</td>\n",
       "      <td>1.000000</td>\n",
       "      <td>1.000000</td>\n",
       "      <td>1.000000</td>\n",
       "      <td>1.000000</td>\n",
       "      <td>1.000000</td>\n",
       "      <td>1.000000</td>\n",
       "      <td>1.000000</td>\n",
       "      <td>0.000000</td>\n",
       "    </tr>\n",
       "    <tr>\n",
       "      <th>25%</th>\n",
       "      <td>16532.000000</td>\n",
       "      <td>120.000000</td>\n",
       "      <td>82.000000</td>\n",
       "      <td>80.000000</td>\n",
       "      <td>84.000000</td>\n",
       "      <td>83.000000</td>\n",
       "      <td>80.000000</td>\n",
       "      <td>81.000000</td>\n",
       "      <td>86.000000</td>\n",
       "      <td>0.000000</td>\n",
       "    </tr>\n",
       "    <tr>\n",
       "      <th>50%</th>\n",
       "      <td>33063.000000</td>\n",
       "      <td>188.000000</td>\n",
       "      <td>139.000000</td>\n",
       "      <td>137.000000</td>\n",
       "      <td>140.000000</td>\n",
       "      <td>139.000000</td>\n",
       "      <td>136.000000</td>\n",
       "      <td>137.000000</td>\n",
       "      <td>142.000000</td>\n",
       "      <td>1.000000</td>\n",
       "    </tr>\n",
       "    <tr>\n",
       "      <th>75%</th>\n",
       "      <td>49594.000000</td>\n",
       "      <td>277.000000</td>\n",
       "      <td>208.000000</td>\n",
       "      <td>205.000000</td>\n",
       "      <td>208.000000</td>\n",
       "      <td>210.000000</td>\n",
       "      <td>205.000000</td>\n",
       "      <td>205.000000</td>\n",
       "      <td>212.000000</td>\n",
       "      <td>1.000000</td>\n",
       "    </tr>\n",
       "    <tr>\n",
       "      <th>max</th>\n",
       "      <td>66125.000000</td>\n",
       "      <td>585.000000</td>\n",
       "      <td>913.000000</td>\n",
       "      <td>920.000000</td>\n",
       "      <td>931.000000</td>\n",
       "      <td>920.000000</td>\n",
       "      <td>913.000000</td>\n",
       "      <td>933.000000</td>\n",
       "      <td>936.000000</td>\n",
       "      <td>1.000000</td>\n",
       "    </tr>\n",
       "  </tbody>\n",
       "</table>\n",
       "</div>"
      ],
      "text/plain": [
       "                 id      A1-level      A2-level      A3-level      A4-level  \\\n",
       "count  66125.000000  66125.000000  66125.000000  66125.000000  66074.000000   \n",
       "mean   33063.000000    208.838926    155.351698    153.175229    156.001619   \n",
       "std    19088.787612    118.986528     96.183950     95.470733     95.524571   \n",
       "min        1.000000      1.000000      1.000000      1.000000      1.000000   \n",
       "25%    16532.000000    120.000000     82.000000     80.000000     84.000000   \n",
       "50%    33063.000000    188.000000    139.000000    137.000000    140.000000   \n",
       "75%    49594.000000    277.000000    208.000000    205.000000    208.000000   \n",
       "max    66125.000000    585.000000    913.000000    920.000000    931.000000   \n",
       "\n",
       "           B1-level      B2-level      B3-level      B4-level             y  \n",
       "count  66125.000000  66125.000000  66124.000000  66058.000000  66125.000000  \n",
       "mean     156.378722    152.764749    153.105393    157.869736      0.524703  \n",
       "std       97.109501     95.373534     94.891705     95.777647      0.499393  \n",
       "min        1.000000      1.000000      1.000000      1.000000      0.000000  \n",
       "25%       83.000000     80.000000     81.000000     86.000000      0.000000  \n",
       "50%      139.000000    136.000000    137.000000    142.000000      1.000000  \n",
       "75%      210.000000    205.000000    205.000000    212.000000      1.000000  \n",
       "max      920.000000    913.000000    933.000000    936.000000      1.000000  "
      ]
     },
     "metadata": {},
     "output_type": "display_data"
    },
    {
     "name": "stdout",
     "output_type": "stream",
     "text": [
      "######################################\n",
      "➄欠損値がある列の確認\n"
     ]
    },
    {
     "data": {
      "text/plain": [
       "A1-rank      14444\n",
       "A2-rank      14444\n",
       "A3-rank      14444\n",
       "A4-weapon       51\n",
       "A4-rank      14487\n",
       "A4-level        51\n",
       "B1-rank      14444\n",
       "B2-rank      14444\n",
       "B3-weapon        1\n",
       "B3-rank      14444\n",
       "B3-level         1\n",
       "B4-weapon       67\n",
       "B4-rank      14501\n",
       "B4-level        67\n",
       "dtype: int64"
      ]
     },
     "metadata": {},
     "output_type": "display_data"
    },
    {
     "data": {
      "text/plain": [
       "(14,)"
      ]
     },
     "metadata": {},
     "output_type": "display_data"
    },
    {
     "name": "stdout",
     "output_type": "stream",
     "text": [
      "######################################\n",
      "⑥相関係数のヒートマップ\n"
     ]
    },
    {
     "data": {
      "image/png": "[encoded data removed]",
      "text/plain": [
       "<Figure size 432x288 with 2 Axes>"
      ]
     },
     "metadata": {},
     "output_type": "display_data"
    }
   ],
   "source": [
    "inspection_datas(train)"
   ]
  },
  {
   "cell_type": "markdown",
   "metadata": {},
   "source": [
    "# 外部データの結合"
   ]
  },
  {
   "cell_type": "code",
   "execution_count": 191,
   "metadata": {},
   "outputs": [],
   "source": [
    "# 外部データの読込\n",
    "# stage,stage2は若干面積が異なる、バージョンによる違いや計算方法による誤差\n",
    "stage = pd.read_csv('../gaibu_data/stagedata.csv')\n",
    "stage2 = pd.read_json('../gaibu_data/stage.json')\n",
    "weapon = pd.read_csv('../gaibu_data/statink-weapon2.csv')"
   ]
  },
  {
   "cell_type": "code",
   "execution_count": 192,
   "metadata": {},
   "outputs": [
    {
     "data": {
      "text/html": [
       "<div>\n",
       "<style scoped>\n",
       "    .dataframe tbody tr th:only-of-type {\n",
       "        vertical-align: middle;\n",
       "    }\n",
       "\n",
       "    .dataframe tbody tr th {\n",
       "        vertical-align: top;\n",
       "    }\n",
       "\n",
       "    .dataframe thead th {\n",
       "        text-align: right;\n",
       "    }\n",
       "</style>\n",
       "<table border=\"1\" class=\"dataframe\">\n",
       "  <thead>\n",
       "    <tr style=\"text-align: right;\">\n",
       "      <th></th>\n",
       "      <th>stage</th>\n",
       "      <th>size</th>\n",
       "    </tr>\n",
       "  </thead>\n",
       "  <tbody>\n",
       "    <tr>\n",
       "      <th>0</th>\n",
       "      <td>sumeshi</td>\n",
       "      <td>2855.0</td>\n",
       "    </tr>\n",
       "    <tr>\n",
       "      <th>1</th>\n",
       "      <td>arowana</td>\n",
       "      <td>2391.0</td>\n",
       "    </tr>\n",
       "    <tr>\n",
       "      <th>2</th>\n",
       "      <td>ama</td>\n",
       "      <td>2426.0</td>\n",
       "    </tr>\n",
       "  </tbody>\n",
       "</table>\n",
       "</div>"
      ],
      "text/plain": [
       "     stage    size\n",
       "0  sumeshi  2855.0\n",
       "1  arowana  2391.0\n",
       "2      ama  2426.0"
      ]
     },
     "execution_count": 192,
     "metadata": {},
     "output_type": "execute_result"
    }
   ],
   "source": [
    "stage.head(3)"
   ]
  },
  {
   "cell_type": "code",
   "execution_count": 193,
   "metadata": {},
   "outputs": [
    {
     "data": {
      "text/html": [
       "<div>\n",
       "<style scoped>\n",
       "    .dataframe tbody tr th:only-of-type {\n",
       "        vertical-align: middle;\n",
       "    }\n",
       "\n",
       "    .dataframe tbody tr th {\n",
       "        vertical-align: top;\n",
       "    }\n",
       "\n",
       "    .dataframe thead th {\n",
       "        text-align: right;\n",
       "    }\n",
       "</style>\n",
       "<table border=\"1\" class=\"dataframe\">\n",
       "  <thead>\n",
       "    <tr style=\"text-align: right;\">\n",
       "      <th></th>\n",
       "      <th>area</th>\n",
       "      <th>key</th>\n",
       "      <th>name</th>\n",
       "      <th>release_at</th>\n",
       "      <th>short_name</th>\n",
       "      <th>splatnet</th>\n",
       "    </tr>\n",
       "  </thead>\n",
       "  <tbody>\n",
       "    <tr>\n",
       "      <th>0</th>\n",
       "      <td>2450.0</td>\n",
       "      <td>battera</td>\n",
       "      <td>{'de_DE': 'Korallenviertel', 'en_GB': 'The Ree...</td>\n",
       "      <td>{'time': 1490382000, 'iso8601': '2017-03-24T19...</td>\n",
       "      <td>{'de_DE': 'Korallenviertel', 'en_GB': 'Reef', ...</td>\n",
       "      <td>0</td>\n",
       "    </tr>\n",
       "    <tr>\n",
       "      <th>1</th>\n",
       "      <td>1957.0</td>\n",
       "      <td>fujitsubo</td>\n",
       "      <td>{'de_DE': 'Molluskelbude', 'en_GB': 'Musselfor...</td>\n",
       "      <td>{'time': 1490382000, 'iso8601': '2017-03-24T19...</td>\n",
       "      <td>{'de_DE': 'Molluskelbude', 'en_GB': 'Fitness',...</td>\n",
       "      <td>1</td>\n",
       "    </tr>\n",
       "    <tr>\n",
       "      <th>2</th>\n",
       "      <td>2140.0</td>\n",
       "      <td>gangaze</td>\n",
       "      <td>{'de_DE': 'Seeigel-Rockbühne', 'en_GB': 'Starf...</td>\n",
       "      <td>{'time': 1500105600, 'iso8601': '2017-07-15T08...</td>\n",
       "      <td>{'de_DE': 'Seeigel-Rockbühne', 'en_GB': 'Mains...</td>\n",
       "      <td>2</td>\n",
       "    </tr>\n",
       "  </tbody>\n",
       "</table>\n",
       "</div>"
      ],
      "text/plain": [
       "     area        key                                               name  \\\n",
       "0  2450.0    battera  {'de_DE': 'Korallenviertel', 'en_GB': 'The Ree...   \n",
       "1  1957.0  fujitsubo  {'de_DE': 'Molluskelbude', 'en_GB': 'Musselfor...   \n",
       "2  2140.0    gangaze  {'de_DE': 'Seeigel-Rockbühne', 'en_GB': 'Starf...   \n",
       "\n",
       "                                          release_at  \\\n",
       "0  {'time': 1490382000, 'iso8601': '2017-03-24T19...   \n",
       "1  {'time': 1490382000, 'iso8601': '2017-03-24T19...   \n",
       "2  {'time': 1500105600, 'iso8601': '2017-07-15T08...   \n",
       "\n",
       "                                          short_name  splatnet  \n",
       "0  {'de_DE': 'Korallenviertel', 'en_GB': 'Reef', ...         0  \n",
       "1  {'de_DE': 'Molluskelbude', 'en_GB': 'Fitness',...         1  \n",
       "2  {'de_DE': 'Seeigel-Rockbühne', 'en_GB': 'Mains...         2  "
      ]
     },
     "execution_count": 193,
     "metadata": {},
     "output_type": "execute_result"
    }
   ],
   "source": [
    "stage2.head(3)"
   ]
  },
  {
   "cell_type": "code",
   "execution_count": 194,
   "metadata": {},
   "outputs": [
    {
     "data": {
      "text/html": [
       "<div>\n",
       "<style scoped>\n",
       "    .dataframe tbody tr th:only-of-type {\n",
       "        vertical-align: middle;\n",
       "    }\n",
       "\n",
       "    .dataframe tbody tr th {\n",
       "        vertical-align: top;\n",
       "    }\n",
       "\n",
       "    .dataframe thead th {\n",
       "        text-align: right;\n",
       "    }\n",
       "</style>\n",
       "<table border=\"1\" class=\"dataframe\">\n",
       "  <thead>\n",
       "    <tr style=\"text-align: right;\">\n",
       "      <th></th>\n",
       "      <th>category1</th>\n",
       "      <th>category2</th>\n",
       "      <th>key</th>\n",
       "      <th>subweapon</th>\n",
       "      <th>special</th>\n",
       "      <th>mainweapon</th>\n",
       "      <th>reskin</th>\n",
       "      <th>splatnet</th>\n",
       "      <th>[de-DE]</th>\n",
       "      <th>[en-GB]</th>\n",
       "      <th>...</th>\n",
       "      <th>[es-ES]</th>\n",
       "      <th>[es-MX]</th>\n",
       "      <th>[fr-CA]</th>\n",
       "      <th>[fr-FR]</th>\n",
       "      <th>[it-IT]</th>\n",
       "      <th>[ja-JP]</th>\n",
       "      <th>[nl-NL]</th>\n",
       "      <th>[ru-RU]</th>\n",
       "      <th>[zh-CN]</th>\n",
       "      <th>[zh-TW]</th>\n",
       "    </tr>\n",
       "  </thead>\n",
       "  <tbody>\n",
       "    <tr>\n",
       "      <th>0</th>\n",
       "      <td>shooter</td>\n",
       "      <td>shooter</td>\n",
       "      <td>52gal</td>\n",
       "      <td>pointsensor</td>\n",
       "      <td>sphere</td>\n",
       "      <td>52gal</td>\n",
       "      <td>52gal</td>\n",
       "      <td>50</td>\n",
       "      <td>.52 Gallon</td>\n",
       "      <td>.52 Gal</td>\n",
       "      <td>...</td>\n",
       "      <td>Salpicadora 2000</td>\n",
       "      <td>Salpicadora 2000</td>\n",
       "      <td>Calibre 2000</td>\n",
       "      <td>Calibre 2000</td>\n",
       "      <td>Calibro 2000</td>\n",
       "      <td>.52ガロン</td>\n",
       "      <td>.52 Kaliter</td>\n",
       "      <td>Струевик .52</td>\n",
       "      <td>点52口径重枪</td>\n",
       "      <td>點52口徑重槍</td>\n",
       "    </tr>\n",
       "    <tr>\n",
       "      <th>1</th>\n",
       "      <td>shooter</td>\n",
       "      <td>shooter</td>\n",
       "      <td>52gal_deco</td>\n",
       "      <td>curlingbomb</td>\n",
       "      <td>presser</td>\n",
       "      <td>52gal</td>\n",
       "      <td>52gal_deco</td>\n",
       "      <td>51</td>\n",
       "      <td>.52 Gallon Deko</td>\n",
       "      <td>.52 Gal Deco</td>\n",
       "      <td>...</td>\n",
       "      <td>Salpicadora 2000 DX</td>\n",
       "      <td>Salpicadora 2000 chic</td>\n",
       "      <td>Calibre 2000 chic</td>\n",
       "      <td>Calibre 2000 chic</td>\n",
       "      <td>Calibro 2000 DX</td>\n",
       "      <td>.52ガロンデコ</td>\n",
       "      <td>.52 Kaliter Deco</td>\n",
       "      <td>Струевик .52 «Деко»</td>\n",
       "      <td>点52口径重枪 Deco</td>\n",
       "      <td>點52口徑重槍 Deco</td>\n",
       "    </tr>\n",
       "    <tr>\n",
       "      <th>2</th>\n",
       "      <td>shooter</td>\n",
       "      <td>shooter</td>\n",
       "      <td>96gal</td>\n",
       "      <td>sprinkler</td>\n",
       "      <td>armor</td>\n",
       "      <td>96gal</td>\n",
       "      <td>96gal</td>\n",
       "      <td>80</td>\n",
       "      <td>.96 Gallon</td>\n",
       "      <td>.96 Gal</td>\n",
       "      <td>...</td>\n",
       "      <td>Salpicadora 3000</td>\n",
       "      <td>Salpicadora 3000</td>\n",
       "      <td>Calibre 3000</td>\n",
       "      <td>Calibre 3000</td>\n",
       "      <td>Calibro 3000</td>\n",
       "      <td>.96ガロン</td>\n",
       "      <td>.96 Kaliter</td>\n",
       "      <td>Струевик .96</td>\n",
       "      <td>点96口径重枪</td>\n",
       "      <td>點96口徑重槍</td>\n",
       "    </tr>\n",
       "  </tbody>\n",
       "</table>\n",
       "<p>3 rows × 21 columns</p>\n",
       "</div>"
      ],
      "text/plain": [
       "  category1 category2         key    subweapon  special mainweapon  \\\n",
       "0   shooter   shooter       52gal  pointsensor   sphere      52gal   \n",
       "1   shooter   shooter  52gal_deco  curlingbomb  presser      52gal   \n",
       "2   shooter   shooter       96gal    sprinkler    armor      96gal   \n",
       "\n",
       "       reskin  splatnet          [de-DE]       [en-GB]      ...       \\\n",
       "0       52gal        50       .52 Gallon       .52 Gal      ...        \n",
       "1  52gal_deco        51  .52 Gallon Deko  .52 Gal Deco      ...        \n",
       "2       96gal        80       .96 Gallon       .96 Gal      ...        \n",
       "\n",
       "               [es-ES]                [es-MX]            [fr-CA]  \\\n",
       "0     Salpicadora 2000       Salpicadora 2000       Calibre 2000   \n",
       "1  Salpicadora 2000 DX  Salpicadora 2000 chic  Calibre 2000 chic   \n",
       "2     Salpicadora 3000       Salpicadora 3000       Calibre 3000   \n",
       "\n",
       "             [fr-FR]          [it-IT]   [ja-JP]           [nl-NL]  \\\n",
       "0       Calibre 2000     Calibro 2000    .52ガロン       .52 Kaliter   \n",
       "1  Calibre 2000 chic  Calibro 2000 DX  .52ガロンデコ  .52 Kaliter Deco   \n",
       "2       Calibre 3000     Calibro 3000    .96ガロン       .96 Kaliter   \n",
       "\n",
       "               [ru-RU]       [zh-CN]       [zh-TW]  \n",
       "0         Струевик .52       点52口径重枪       點52口徑重槍  \n",
       "1  Струевик .52 «Деко»  点52口径重枪 Deco  點52口徑重槍 Deco  \n",
       "2         Струевик .96       点96口径重枪       點96口徑重槍  \n",
       "\n",
       "[3 rows x 21 columns]"
      ]
     },
     "execution_count": 194,
     "metadata": {},
     "output_type": "execute_result"
    }
   ],
   "source": [
    "weapon.head(3)"
   ]
  },
  {
   "cell_type": "markdown",
   "metadata": {},
   "source": [
    "## stageを結合"
   ]
  },
  {
   "cell_type": "code",
   "execution_count": 195,
   "metadata": {},
   "outputs": [
    {
     "name": "stdout",
     "output_type": "stream",
     "text": [
      "['ajifry' 'ama' 'anchovy' 'arowana' 'battera' 'bbass' 'chozame' 'devon'\n",
      " 'engawa' 'fujitsubo' 'gangaze' 'hakofugu' 'hokke' 'kombu' 'manta'\n",
      " 'mongara' 'mozuku' 'mutsugoro' 'otoro' 'shottsuru' 'sumeshi' 'tachiuo'\n",
      " 'zatou']\n",
      "['ajifry' 'ama' 'anchovy' 'arowana' 'battera' 'bbass' 'chozame' 'devon'\n",
      " 'engawa' 'fujitsubo' 'gangaze' 'hakofugu' 'hokke' 'kombu' 'manta'\n",
      " 'mongara' 'mozuku' 'mutsugoro' 'otoro' 'shottsuru' 'sumeshi' 'tachiuo'\n",
      " 'zatou']\n",
      "['ajifry' 'ama' 'anchovy' 'arowana' 'battera' 'bbass' 'chozame' 'devon'\n",
      " 'engawa' 'fujitsubo' 'gangaze' 'hakofugu' 'hokke' 'kombu' 'manta'\n",
      " 'mongara' 'mozuku' 'mutsugoro' 'otoro' 'shottsuru' 'sumeshi' 'tachiuo'\n",
      " 'zatou']\n"
     ]
    }
   ],
   "source": [
    "# 表記揺れの確認\n",
    "print(np.sort(train['stage'].unique()))\n",
    "print(np.sort(test['stage'].unique()))\n",
    "print(np.sort(stage['stage'].unique()))"
   ]
  },
  {
   "cell_type": "code",
   "execution_count": 196,
   "metadata": {},
   "outputs": [
    {
     "name": "stdout",
     "output_type": "stream",
     "text": [
      "stage_size1    0\n",
      "dtype: int64\n",
      "stage_size1    0\n",
      "dtype: int64\n"
     ]
    }
   ],
   "source": [
    "# 結合のため列名変更\n",
    "stage_r = stage.rename(columns = {'size':'stage_size1'})\n",
    "# 結合\n",
    "train_s = pd.merge(train, stage_r, on = 'stage', how = 'left')\n",
    "test_s = pd.merge(test, stage_r, on = 'stage', how = 'left')\n",
    "\n",
    "# null確認\n",
    "print(train_s[['stage_size1']].isnull().sum())\n",
    "print(test_s[['stage_size1']].isnull().sum())"
   ]
  },
  {
   "cell_type": "markdown",
   "metadata": {},
   "source": [
    "## stage2を結合"
   ]
  },
  {
   "cell_type": "code",
   "execution_count": 197,
   "metadata": {},
   "outputs": [
    {
     "name": "stdout",
     "output_type": "stream",
     "text": [
      "['ajifry' 'ama' 'anchovy' 'arowana' 'battera' 'bbass' 'chozame' 'devon'\n",
      " 'engawa' 'fujitsubo' 'gangaze' 'hakofugu' 'hokke' 'kombu' 'manta'\n",
      " 'mongara' 'mozuku' 'mutsugoro' 'otoro' 'shottsuru' 'sumeshi' 'tachiuo'\n",
      " 'zatou']\n",
      "['ajifry' 'ama' 'anchovy' 'arowana' 'battera' 'bbass' 'chozame' 'devon'\n",
      " 'engawa' 'fujitsubo' 'gangaze' 'hakofugu' 'hokke' 'kombu' 'manta'\n",
      " 'mongara' 'mozuku' 'mutsugoro' 'otoro' 'shottsuru' 'sumeshi' 'tachiuo'\n",
      " 'zatou']\n",
      "['ajifry' 'ama' 'anchovy' 'arowana' 'battera' 'bbass' 'chozame' 'devon'\n",
      " 'engawa' 'fujitsubo' 'gangaze' 'hakofugu' 'hokke' 'kombu' 'manta'\n",
      " 'mongara' 'mozuku' 'mutsugoro' 'mystery' 'mystery_01' 'mystery_02'\n",
      " 'mystery_03' 'mystery_04' 'mystery_05' 'mystery_06' 'mystery_07'\n",
      " 'mystery_08' 'mystery_09' 'mystery_10' 'mystery_11' 'mystery_12'\n",
      " 'mystery_13' 'mystery_14' 'mystery_15' 'mystery_16' 'mystery_17'\n",
      " 'mystery_18' 'mystery_19' 'mystery_20' 'mystery_21' 'mystery_22'\n",
      " 'mystery_23' 'mystery_24' 'otoro' 'shottsuru' 'sumeshi' 'tachiuo' 'zatou']\n"
     ]
    }
   ],
   "source": [
    "# 表記揺れの確認\n",
    "print(np.sort(train['stage'].unique()))\n",
    "print(np.sort(test['stage'].unique()))\n",
    "# 「mystery~」はイベント時に解放されるステージ、今回のtrain,testデータには無し\n",
    "print(np.sort(stage2['key'].unique()))"
   ]
  },
  {
   "cell_type": "code",
   "execution_count": 198,
   "metadata": {},
   "outputs": [
    {
     "data": {
      "text/plain": [
       "Index(['stage_size2', 'stage', 'name', 'release_at', 'short_name', 'splatnet'], dtype='object')"
      ]
     },
     "execution_count": 198,
     "metadata": {},
     "output_type": "execute_result"
    }
   ],
   "source": [
    "stage2_r.columns"
   ]
  },
  {
   "cell_type": "code",
   "execution_count": 199,
   "metadata": {},
   "outputs": [],
   "source": [
    "# 結合のため列名変更\n",
    "stage2_r = stage2.rename(columns = {'key':'stage', 'area':'stage_size2'})"
   ]
  },
  {
   "cell_type": "code",
   "execution_count": 200,
   "metadata": {},
   "outputs": [],
   "source": [
    "# 必要カラム\n",
    "st2_col = ['stage_size2', # ステージの面積\n",
    "           'stage', # ステージ名\n",
    "#            'name', # 外国語ステージ名\n",
    "#            'release_at', #リリース日時\n",
    "#            'short_name', # 省略名\n",
    "#            'splatnet' # ID?\n",
    "          ]\n",
    "stage2_rc = stage2_r[st2_col]"
   ]
  },
  {
   "cell_type": "code",
   "execution_count": 201,
   "metadata": {},
   "outputs": [
    {
     "name": "stdout",
     "output_type": "stream",
     "text": [
      "stage_size2    0\n",
      "dtype: int64\n",
      "stage_size2    0\n",
      "dtype: int64\n"
     ]
    }
   ],
   "source": [
    "# 結合\n",
    "train_ss = pd.merge(train_s, stage2_rc, on = 'stage', how = 'left')\n",
    "test_ss = pd.merge(test_s, stage2_rc, on = 'stage', how = 'left')\n",
    "\n",
    "# null確認\n",
    "print(train_ss[['stage_size2']].isnull().sum())\n",
    "print(test_ss[['stage_size2']].isnull().sum())"
   ]
  },
  {
   "cell_type": "markdown",
   "metadata": {},
   "source": [
    "## weaponを結合"
   ]
  },
  {
   "cell_type": "code",
   "execution_count": 202,
   "metadata": {},
   "outputs": [
    {
     "name": "stdout",
     "output_type": "stream",
     "text": [
      "139種類\n",
      "['52gal', '52gal_becchu', '52gal_deco', '96gal', '96gal_deco', 'bamboo14mk1', 'bamboo14mk2', 'bamboo14mk3', 'barrelspinner', 'barrelspinner_deco', 'barrelspinner_remix', 'bold', 'bold_7', 'bold_neo', 'bottlegeyser', 'bottlegeyser_foil', 'bucketslosher', 'bucketslosher_deco', 'bucketslosher_soda', 'campingshelter', 'campingshelter_camo', 'campingshelter_sorella', 'carbon', 'carbon_deco', 'clashblaster', 'clashblaster_neo', 'dualsweeper', 'dualsweeper_custom', 'dynamo', 'dynamo_becchu', 'dynamo_tesla', 'explosher', 'explosher_custom', 'furo', 'furo_deco', 'h3reelgun', 'h3reelgun_cherry', 'h3reelgun_d', 'heroblaster_replica', 'herobrush_replica', 'herocharger_replica', 'heromaneuver_replica', 'heroroller_replica', 'heroshelter_replica', 'heroshooter_replica', 'heroslosher_replica', 'herospinner_replica', 'hissen', 'hissen_hue', 'hokusai', 'hokusai_becchu', 'hokusai_hue', 'hotblaster', 'hotblaster_custom', 'hydra', 'hydra_custom', 'jetsweeper', 'jetsweeper_custom', 'kelvin525', 'kelvin525_becchu', 'kelvin525_deco', 'kugelschreiber', 'kugelschreiber_hue', 'l3reelgun', 'l3reelgun_becchu', 'l3reelgun_d', 'liter4k', 'liter4k_custom', 'liter4k_scope', 'liter4k_scope_custom', 'longblaster', 'longblaster_custom', 'longblaster_necro', 'maneuver', 'maneuver_becchu', 'maneuver_collabo', 'momiji', 'nautilus47', 'nautilus79', 'nova', 'nova_becchu', 'nova_neo', 'nzap83', 'nzap85', 'nzap89', 'ochiba', 'octoshooter_replica', 'pablo', 'pablo_hue', 'pablo_permanent', 'parashelter', 'parashelter_sorella', 'prime', 'prime_becchu', 'prime_collabo', 'promodeler_mg', 'promodeler_pg', 'promodeler_rg', 'quadhopper_black', 'quadhopper_white', 'rapid', 'rapid_becchu', 'rapid_deco', 'rapid_elite', 'rapid_elite_deco', 'screwslosher', 'screwslosher_becchu', 'screwslosher_neo', 'sharp', 'sharp_neo', 'soytuber', 'soytuber_custom', 'splatcharger', 'splatcharger_becchu', 'splatcharger_collabo', 'splatroller', 'splatroller_becchu', 'splatroller_collabo', 'splatscope', 'splatscope_becchu', 'splatscope_collabo', 'splatspinner', 'splatspinner_becchu', 'splatspinner_collabo', 'sputtery', 'sputtery_clear', 'sputtery_hue', 'spygadget', 'spygadget_becchu', 'spygadget_sorella', 'squiclean_a', 'squiclean_b', 'squiclean_g', 'sshooter', 'sshooter_becchu', 'sshooter_collabo', 'variableroller', 'variableroller_foil', 'wakaba']\n"
     ]
    }
   ],
   "source": [
    "# trainのブキ\n",
    "train_weapon = sorted(list(set(train['A1-weapon'])&set(train['A2-weapon'])&set(train['A3-weapon'])&set(train['A4-weapon'])\\\n",
    "&set(train['B1-weapon'])&set(train['B2-weapon'])&set(train['B3-weapon'])&set(train['B4-weapon'])))\n",
    "print('{}種類'.format(len(train_weapon)))\n",
    "print(train_weapon)"
   ]
  },
  {
   "cell_type": "code",
   "execution_count": 203,
   "metadata": {},
   "outputs": [
    {
     "name": "stdout",
     "output_type": "stream",
     "text": [
      "139種類\n",
      "['52gal', '52gal_becchu', '52gal_deco', '96gal', '96gal_deco', 'bamboo14mk1', 'bamboo14mk2', 'bamboo14mk3', 'barrelspinner', 'barrelspinner_deco', 'barrelspinner_remix', 'bold', 'bold_7', 'bold_neo', 'bottlegeyser', 'bottlegeyser_foil', 'bucketslosher', 'bucketslosher_deco', 'bucketslosher_soda', 'campingshelter', 'campingshelter_camo', 'campingshelter_sorella', 'carbon', 'carbon_deco', 'clashblaster', 'clashblaster_neo', 'dualsweeper', 'dualsweeper_custom', 'dynamo', 'dynamo_becchu', 'dynamo_tesla', 'explosher', 'explosher_custom', 'furo', 'furo_deco', 'h3reelgun', 'h3reelgun_cherry', 'h3reelgun_d', 'heroblaster_replica', 'herobrush_replica', 'herocharger_replica', 'heromaneuver_replica', 'heroroller_replica', 'heroshelter_replica', 'heroshooter_replica', 'heroslosher_replica', 'herospinner_replica', 'hissen', 'hissen_hue', 'hokusai', 'hokusai_becchu', 'hokusai_hue', 'hotblaster', 'hotblaster_custom', 'hydra', 'hydra_custom', 'jetsweeper', 'jetsweeper_custom', 'kelvin525', 'kelvin525_becchu', 'kelvin525_deco', 'kugelschreiber', 'kugelschreiber_hue', 'l3reelgun', 'l3reelgun_becchu', 'l3reelgun_d', 'liter4k', 'liter4k_custom', 'liter4k_scope', 'liter4k_scope_custom', 'longblaster', 'longblaster_custom', 'longblaster_necro', 'maneuver', 'maneuver_becchu', 'maneuver_collabo', 'momiji', 'nautilus47', 'nautilus79', 'nova', 'nova_becchu', 'nova_neo', 'nzap83', 'nzap85', 'nzap89', 'ochiba', 'octoshooter_replica', 'pablo', 'pablo_hue', 'pablo_permanent', 'parashelter', 'parashelter_sorella', 'prime', 'prime_becchu', 'prime_collabo', 'promodeler_mg', 'promodeler_pg', 'promodeler_rg', 'quadhopper_black', 'quadhopper_white', 'rapid', 'rapid_becchu', 'rapid_deco', 'rapid_elite', 'rapid_elite_deco', 'screwslosher', 'screwslosher_becchu', 'screwslosher_neo', 'sharp', 'sharp_neo', 'soytuber', 'soytuber_custom', 'splatcharger', 'splatcharger_becchu', 'splatcharger_collabo', 'splatroller', 'splatroller_becchu', 'splatroller_collabo', 'splatscope', 'splatscope_becchu', 'splatscope_collabo', 'splatspinner', 'splatspinner_becchu', 'splatspinner_collabo', 'sputtery', 'sputtery_clear', 'sputtery_hue', 'spygadget', 'spygadget_becchu', 'spygadget_sorella', 'squiclean_a', 'squiclean_b', 'squiclean_g', 'sshooter', 'sshooter_becchu', 'sshooter_collabo', 'variableroller', 'variableroller_foil', 'wakaba']\n"
     ]
    }
   ],
   "source": [
    "# testのブキ\n",
    "test_weapon = sorted(list(set(test['A1-weapon'])&set(test['A2-weapon'])&set(test['A3-weapon'])&set(test['A4-weapon'])\\\n",
    "&set(test['B1-weapon'])&set(test['B2-weapon'])&set(test['B3-weapon'])&set(test['B4-weapon'])))\n",
    "print('{}種類'.format(len(test_weapon)))\n",
    "print(test_weapon)"
   ]
  },
  {
   "cell_type": "code",
   "execution_count": 204,
   "metadata": {},
   "outputs": [
    {
     "name": "stdout",
     "output_type": "stream",
     "text": [
      "139種類\n",
      "['52gal' '52gal_becchu' '52gal_deco' '96gal' '96gal_deco' 'bamboo14mk1'\n",
      " 'bamboo14mk2' 'bamboo14mk3' 'barrelspinner' 'barrelspinner_deco'\n",
      " 'barrelspinner_remix' 'bold' 'bold_7' 'bold_neo' 'bottlegeyser'\n",
      " 'bottlegeyser_foil' 'bucketslosher' 'bucketslosher_deco'\n",
      " 'bucketslosher_soda' 'campingshelter' 'campingshelter_camo'\n",
      " 'campingshelter_sorella' 'carbon' 'carbon_deco' 'clashblaster'\n",
      " 'clashblaster_neo' 'dualsweeper' 'dualsweeper_custom' 'dynamo'\n",
      " 'dynamo_becchu' 'dynamo_tesla' 'explosher' 'explosher_custom' 'furo'\n",
      " 'furo_deco' 'h3reelgun' 'h3reelgun_cherry' 'h3reelgun_d'\n",
      " 'heroblaster_replica' 'herobrush_replica' 'herocharger_replica'\n",
      " 'heromaneuver_replica' 'heroroller_replica' 'heroshelter_replica'\n",
      " 'heroshooter_replica' 'heroslosher_replica' 'herospinner_replica'\n",
      " 'hissen' 'hissen_hue' 'hokusai' 'hokusai_becchu' 'hokusai_hue'\n",
      " 'hotblaster' 'hotblaster_custom' 'hydra' 'hydra_custom' 'jetsweeper'\n",
      " 'jetsweeper_custom' 'kelvin525' 'kelvin525_becchu' 'kelvin525_deco'\n",
      " 'kugelschreiber' 'kugelschreiber_hue' 'l3reelgun' 'l3reelgun_becchu'\n",
      " 'l3reelgun_d' 'liter4k' 'liter4k_custom' 'liter4k_scope'\n",
      " 'liter4k_scope_custom' 'longblaster' 'longblaster_custom'\n",
      " 'longblaster_necro' 'maneuver' 'maneuver_becchu' 'maneuver_collabo'\n",
      " 'momiji' 'nautilus47' 'nautilus79' 'nova' 'nova_becchu' 'nova_neo'\n",
      " 'nzap83' 'nzap85' 'nzap89' 'ochiba' 'octoshooter_replica' 'pablo'\n",
      " 'pablo_hue' 'pablo_permanent' 'parashelter' 'parashelter_sorella' 'prime'\n",
      " 'prime_becchu' 'prime_collabo' 'promodeler_mg' 'promodeler_pg'\n",
      " 'promodeler_rg' 'quadhopper_black' 'quadhopper_white' 'rapid'\n",
      " 'rapid_becchu' 'rapid_deco' 'rapid_elite' 'rapid_elite_deco'\n",
      " 'screwslosher' 'screwslosher_becchu' 'screwslosher_neo' 'sharp'\n",
      " 'sharp_neo' 'soytuber' 'soytuber_custom' 'splatcharger'\n",
      " 'splatcharger_becchu' 'splatcharger_collabo' 'splatroller'\n",
      " 'splatroller_becchu' 'splatroller_collabo' 'splatscope'\n",
      " 'splatscope_becchu' 'splatscope_collabo' 'splatspinner'\n",
      " 'splatspinner_becchu' 'splatspinner_collabo' 'sputtery' 'sputtery_clear'\n",
      " 'sputtery_hue' 'spygadget' 'spygadget_becchu' 'spygadget_sorella'\n",
      " 'squiclean_a' 'squiclean_b' 'squiclean_g' 'sshooter' 'sshooter_becchu'\n",
      " 'sshooter_collabo' 'variableroller' 'variableroller_foil' 'wakaba']\n"
     ]
    }
   ],
   "source": [
    "# 外部データのブキ\n",
    "gaibu_weapon = train_weapon = np.sort(weapon['key'].unique())\n",
    "print('{}種類'.format(len(gaibu_weapon)))\n",
    "print(gaibu_weapon)"
   ]
  },
  {
   "cell_type": "code",
   "execution_count": 205,
   "metadata": {},
   "outputs": [
    {
     "name": "stdout",
     "output_type": "stream",
     "text": [
      "set()\n",
      "set()\n",
      "set()\n",
      "set()\n"
     ]
    }
   ],
   "source": [
    "# 表記に差分ないか比較→無し\n",
    "print(set(train_weapon)-set(gaibu_weapon))\n",
    "print(set(gaibu_weapon)-set(train_weapon))\n",
    "print(set(test_weapon)-set(gaibu_weapon))\n",
    "print(set(gaibu_weapon)-set(test_weapon))"
   ]
  },
  {
   "cell_type": "code",
   "execution_count": 206,
   "metadata": {},
   "outputs": [],
   "source": [
    "# 必要カラム\n",
    "# 参照：https://stat.ink/api-info/weapon2\n",
    "weapon_col = ['category1', # ブキ区分\n",
    "              'category2', # ブキ区分\n",
    "              'key', # ブキ名\n",
    "              'subweapon', # サブウェポン\n",
    "              'special', # スペシャルウェポン\n",
    "              'mainweapon', # メインブキ\n",
    "              'reskin', # 同一性能のブキ\n",
    "#              'splatnet', # アプリのユーザID\n",
    "# 以下外国語ブキ名\n",
    "#               '[de-DE]', '[en-GB]', '[en-US]', '[es-ES]','[es-MX]', '[fr-CA]', \n",
    "#               '[fr-FR]', '[it-IT]', '[ja-JP]', '[nl-NL]','[ru-RU]', '[zh-CN]', '[zh-TW]'   \n",
    "]"
   ]
  },
  {
   "cell_type": "code",
   "execution_count": 207,
   "metadata": {},
   "outputs": [
    {
     "data": {
      "text/html": [
       "<div>\n",
       "<style scoped>\n",
       "    .dataframe tbody tr th:only-of-type {\n",
       "        vertical-align: middle;\n",
       "    }\n",
       "\n",
       "    .dataframe tbody tr th {\n",
       "        vertical-align: top;\n",
       "    }\n",
       "\n",
       "    .dataframe thead th {\n",
       "        text-align: right;\n",
       "    }\n",
       "</style>\n",
       "<table border=\"1\" class=\"dataframe\">\n",
       "  <thead>\n",
       "    <tr style=\"text-align: right;\">\n",
       "      <th></th>\n",
       "      <th>category1</th>\n",
       "      <th>category2</th>\n",
       "      <th>weapon</th>\n",
       "      <th>subweapon</th>\n",
       "      <th>special</th>\n",
       "      <th>mainweapon</th>\n",
       "      <th>reskin</th>\n",
       "    </tr>\n",
       "  </thead>\n",
       "  <tbody>\n",
       "    <tr>\n",
       "      <th>0</th>\n",
       "      <td>shooter</td>\n",
       "      <td>shooter</td>\n",
       "      <td>52gal</td>\n",
       "      <td>pointsensor</td>\n",
       "      <td>sphere</td>\n",
       "      <td>52gal</td>\n",
       "      <td>52gal</td>\n",
       "    </tr>\n",
       "    <tr>\n",
       "      <th>1</th>\n",
       "      <td>shooter</td>\n",
       "      <td>shooter</td>\n",
       "      <td>52gal_deco</td>\n",
       "      <td>curlingbomb</td>\n",
       "      <td>presser</td>\n",
       "      <td>52gal</td>\n",
       "      <td>52gal_deco</td>\n",
       "    </tr>\n",
       "    <tr>\n",
       "      <th>2</th>\n",
       "      <td>shooter</td>\n",
       "      <td>shooter</td>\n",
       "      <td>96gal</td>\n",
       "      <td>sprinkler</td>\n",
       "      <td>armor</td>\n",
       "      <td>96gal</td>\n",
       "      <td>96gal</td>\n",
       "    </tr>\n",
       "  </tbody>\n",
       "</table>\n",
       "</div>"
      ],
      "text/plain": [
       "  category1 category2      weapon    subweapon  special mainweapon      reskin\n",
       "0   shooter   shooter       52gal  pointsensor   sphere      52gal       52gal\n",
       "1   shooter   shooter  52gal_deco  curlingbomb  presser      52gal  52gal_deco\n",
       "2   shooter   shooter       96gal    sprinkler    armor      96gal       96gal"
      ]
     },
     "execution_count": 207,
     "metadata": {},
     "output_type": "execute_result"
    }
   ],
   "source": [
    "# 必要カラム抽出＆結合キー名変更\n",
    "weapon_c = weapon[weapon_col].rename(columns = {'key': 'weapon'})\n",
    "weapon_c.head(3)"
   ]
  },
  {
   "cell_type": "code",
   "execution_count": 208,
   "metadata": {
    "scrolled": true
   },
   "outputs": [
    {
     "name": "stdout",
     "output_type": "stream",
     "text": [
      "A1-category1     0\n",
      "A1-category2     0\n",
      "A1-weapon        0\n",
      "A1-subweapon     0\n",
      "A1-special       0\n",
      "A1-mainweapon    0\n",
      "A1-reskin        0\n",
      "dtype: int64\n",
      "A1-category1     0\n",
      "A1-category2     0\n",
      "A1-weapon        0\n",
      "A1-subweapon     0\n",
      "A1-special       0\n",
      "A1-mainweapon    0\n",
      "A1-reskin        0\n",
      "dtype: int64\n",
      "A2-category1     0\n",
      "A2-category2     0\n",
      "A2-weapon        0\n",
      "A2-subweapon     0\n",
      "A2-special       0\n",
      "A2-mainweapon    0\n",
      "A2-reskin        0\n",
      "dtype: int64\n",
      "A2-category1     0\n",
      "A2-category2     0\n",
      "A2-weapon        0\n",
      "A2-subweapon     0\n",
      "A2-special       0\n",
      "A2-mainweapon    0\n",
      "A2-reskin        0\n",
      "dtype: int64\n",
      "A3-category1     0\n",
      "A3-category2     0\n",
      "A3-weapon        0\n",
      "A3-subweapon     0\n",
      "A3-special       0\n",
      "A3-mainweapon    0\n",
      "A3-reskin        0\n",
      "dtype: int64\n",
      "A3-category1     0\n",
      "A3-category2     0\n",
      "A3-weapon        0\n",
      "A3-subweapon     0\n",
      "A3-special       0\n",
      "A3-mainweapon    0\n",
      "A3-reskin        0\n",
      "dtype: int64\n",
      "A4-category1     51\n",
      "A4-category2     51\n",
      "A4-weapon        51\n",
      "A4-subweapon     51\n",
      "A4-special       51\n",
      "A4-mainweapon    51\n",
      "A4-reskin        51\n",
      "dtype: int64\n",
      "A4-category1     15\n",
      "A4-category2     15\n",
      "A4-weapon        15\n",
      "A4-subweapon     15\n",
      "A4-special       15\n",
      "A4-mainweapon    15\n",
      "A4-reskin        15\n",
      "dtype: int64\n",
      "B1-category1     0\n",
      "B1-category2     0\n",
      "B1-weapon        0\n",
      "B1-subweapon     0\n",
      "B1-special       0\n",
      "B1-mainweapon    0\n",
      "B1-reskin        0\n",
      "dtype: int64\n",
      "B1-category1     0\n",
      "B1-category2     0\n",
      "B1-weapon        0\n",
      "B1-subweapon     0\n",
      "B1-special       0\n",
      "B1-mainweapon    0\n",
      "B1-reskin        0\n",
      "dtype: int64\n",
      "B2-category1     0\n",
      "B2-category2     0\n",
      "B2-weapon        0\n",
      "B2-subweapon     0\n",
      "B2-special       0\n",
      "B2-mainweapon    0\n",
      "B2-reskin        0\n",
      "dtype: int64\n",
      "B2-category1     0\n",
      "B2-category2     0\n",
      "B2-weapon        0\n",
      "B2-subweapon     0\n",
      "B2-special       0\n",
      "B2-mainweapon    0\n",
      "B2-reskin        0\n",
      "dtype: int64\n",
      "B3-category1     1\n",
      "B3-category2     1\n",
      "B3-weapon        1\n",
      "B3-subweapon     1\n",
      "B3-special       1\n",
      "B3-mainweapon    1\n",
      "B3-reskin        1\n",
      "dtype: int64\n",
      "B3-category1     1\n",
      "B3-category2     1\n",
      "B3-weapon        1\n",
      "B3-subweapon     1\n",
      "B3-special       1\n",
      "B3-mainweapon    1\n",
      "B3-reskin        1\n",
      "dtype: int64\n",
      "B4-category1     67\n",
      "B4-category2     67\n",
      "B4-weapon        67\n",
      "B4-subweapon     67\n",
      "B4-special       67\n",
      "B4-mainweapon    67\n",
      "B4-reskin        67\n",
      "dtype: int64\n",
      "B4-category1     30\n",
      "B4-category2     30\n",
      "B4-weapon        30\n",
      "B4-subweapon     30\n",
      "B4-special       30\n",
      "B4-mainweapon    30\n",
      "B4-reskin        30\n",
      "dtype: int64\n"
     ]
    }
   ],
   "source": [
    "# 各A1~B4-weapon列に対して結合\n",
    "weapon_cc = weapon_c.copy()\n",
    "train_ssw = train_ss.copy()\n",
    "test_ssw = test_ss.copy()\n",
    "import itertools\n",
    "\n",
    "for a,num in itertools.product(['A','B'],[1,2,3,4]):\n",
    "    col_list = []\n",
    "    # ブキのカラム名の先頭にA1~B4追加\n",
    "    for col in weapon_c.columns:\n",
    "        tmp_col = a+str(num) + '-' + col\n",
    "        col_list.append(tmp_col)\n",
    "    weapon_cc.columns = col_list\n",
    "    #train,testに結合\n",
    "    train_ssw = pd.merge(train_ssw, weapon_cc, on = a+str(num) + '-weapon', how = 'left')\n",
    "    test_ssw = pd.merge(test_ssw, weapon_cc, on = a+str(num) + '-weapon', how = 'left')\n",
    "    # 結合後nullチェック\n",
    "    print(train_ssw[col_list].isnull().sum())\n",
    "    print(test_ssw[col_list].isnull().sum())"
   ]
  },
  {
   "cell_type": "code",
   "execution_count": 209,
   "metadata": {},
   "outputs": [],
   "source": [
    "# 元データにweapon情報がないもののみ(回線落ち)がnullなのでok"
   ]
  },
  {
   "cell_type": "code",
   "execution_count": 210,
   "metadata": {},
   "outputs": [],
   "source": [
    "train_input = train_ssw.copy()\n",
    "test_input = test_ssw.copy()"
   ]
  },
  {
   "cell_type": "markdown",
   "metadata": {},
   "source": [
    "# 前処理"
   ]
  },
  {
   "cell_type": "code",
   "execution_count": 211,
   "metadata": {},
   "outputs": [],
   "source": [
    "# 欠損値埋める\n",
    "def fill_all_null(df, num):\n",
    "    for col_name in df.columns[df.isnull().sum()!=0]:\n",
    "        df[col_name] = df[col_name].fillna(num)"
   ]
  },
  {
   "cell_type": "code",
   "execution_count": 212,
   "metadata": {},
   "outputs": [],
   "source": [
    "# 訓練データ、テストデータの欠損値を-1で補完\n",
    "fill_all_null(train_input, -1)\n",
    "fill_all_null(test_input, -1)"
   ]
  },
  {
   "cell_type": "code",
   "execution_count": 213,
   "metadata": {},
   "outputs": [],
   "source": [
    "# ターゲットエンコーディングの関数定義\n",
    "## Holdout TSを用いる 変更の余地あり\n",
    "def change_to_target2(train_df,test_df,input_column_name,output_column_name):\n",
    "    from sklearn.model_selection import KFold\n",
    "    \n",
    "    # nan埋め処理\n",
    "    ## 上でやってるのでいらない\n",
    "    # train_df[input_column_name] = train_df[input_column_name].fillna('-1')\n",
    "    # test_df[input_column_name] = test_df[input_column_name].fillna('-1')\n",
    "\n",
    "    kf = KFold(n_splits=5, shuffle=True, random_state=71)\n",
    "    #=========================================================#\n",
    "    c=input_column_name\n",
    "    # 学習データ全体で各カテゴリにおけるyの平均を計算\n",
    "    data_tmp = pd.DataFrame({c: train_df[c],'target':train_df['y']})\n",
    "    target_mean = data_tmp.groupby(c)['target'].mean()\n",
    "    #テストデータのカテゴリを置換★\n",
    "    test_df[output_column_name] = test_df[c].map(target_mean)\n",
    "    \n",
    "    # 変換後の値を格納する配列を準備\n",
    "    tmp = np.repeat(np.nan, train_df.shape[0])\n",
    "\n",
    "    for i, (train_index, test_index) in enumerate(kf.split(train_df)): # NFOLDS回まわる\n",
    "        #学習データについて、各カテゴリにおける目的変数の平均を計算\n",
    "        target_mean = data_tmp.iloc[train_index].groupby(c)['target'].mean()\n",
    "        #バリデーションデータについて、変換後の値を一時配列に格納\n",
    "        tmp[test_index] = train_df[c].iloc[test_index].map(target_mean) \n",
    "\n",
    "    #変換後のデータで元の変数を置換\n",
    "    train_df[output_column_name] = tmp\n",
    "#========================================================#   \n"
   ]
  },
  {
   "cell_type": "code",
   "execution_count": 214,
   "metadata": {
    "scrolled": true
   },
   "outputs": [],
   "source": [
    "# オブジェクトの列のリストを作成\n",
    "object_col_list = train_input.select_dtypes(include=object).columns\n",
    "# オブジェクトの列は全てターゲットエンコーディング実施\n",
    "for col in object_col_list:\n",
    "    change_to_target2(train_input,test_input,col,\"enc_\"+col)\n",
    "#　変換前の列を削除\n",
    "train_input = train_input.drop(object_col_list,axis=1)\n",
    "test_input = test_input.drop(object_col_list,axis=1)\n",
    "#　'id'の列を削除\n",
    "train_input = train_input.drop('id',axis=1)\n",
    "test_input = test_input.drop('id',axis=1)"
   ]
  },
  {
   "cell_type": "code",
   "execution_count": 215,
   "metadata": {},
   "outputs": [
    {
     "data": {
      "text/plain": [
       "18"
      ]
     },
     "execution_count": 215,
     "metadata": {},
     "output_type": "execute_result"
    }
   ],
   "source": [
    "#　訓練データ欠損確認\n",
    "train_input.isnull().sum().sum()"
   ]
  },
  {
   "cell_type": "code",
   "execution_count": 216,
   "metadata": {},
   "outputs": [
    {
     "data": {
      "text/plain": [
       "2"
      ]
     },
     "execution_count": 216,
     "metadata": {},
     "output_type": "execute_result"
    }
   ],
   "source": [
    "#　テストデータ欠損確認\n",
    "test_input.isnull().sum().sum()"
   ]
  },
  {
   "cell_type": "code",
   "execution_count": 217,
   "metadata": {},
   "outputs": [],
   "source": [
    "# 欠損値はターゲットエンコーディング時に学習データが少なくなって平均値が計算できなくなってしまうため発生。0埋め。\n",
    "fill_all_null(train_input, 0)\n",
    "fill_all_null(test_input, 0)"
   ]
  },
  {
   "cell_type": "markdown",
   "metadata": {},
   "source": [
    "# データの確認"
   ]
  },
  {
   "cell_type": "code",
   "execution_count": 218,
   "metadata": {},
   "outputs": [
    {
     "name": "stdout",
     "output_type": "stream",
     "text": [
      "Index(['A1-level', 'A2-level', 'A3-level', 'A4-level', 'B1-level', 'B2-level',\n",
      "       'B3-level', 'B4-level', 'y', 'stage_size1', 'stage_size2', 'enc_period',\n",
      "       'enc_game-ver', 'enc_lobby-mode', 'enc_lobby', 'enc_mode', 'enc_stage',\n",
      "       'enc_A1-weapon', 'enc_A1-rank', 'enc_A2-weapon', 'enc_A2-rank',\n",
      "       'enc_A3-weapon', 'enc_A3-rank', 'enc_A4-weapon', 'enc_A4-rank',\n",
      "       'enc_B1-weapon', 'enc_B1-rank', 'enc_B2-weapon', 'enc_B2-rank',\n",
      "       'enc_B3-weapon', 'enc_B3-rank', 'enc_B4-weapon', 'enc_B4-rank',\n",
      "       'enc_A1-category1', 'enc_A1-category2', 'enc_A1-subweapon',\n",
      "       'enc_A1-special', 'enc_A1-mainweapon', 'enc_A1-reskin',\n",
      "       'enc_A2-category1', 'enc_A2-category2', 'enc_A2-subweapon',\n",
      "       'enc_A2-special', 'enc_A2-mainweapon', 'enc_A2-reskin',\n",
      "       'enc_A3-category1', 'enc_A3-category2', 'enc_A3-subweapon',\n",
      "       'enc_A3-special', 'enc_A3-mainweapon', 'enc_A3-reskin',\n",
      "       'enc_A4-category1', 'enc_A4-category2', 'enc_A4-subweapon',\n",
      "       'enc_A4-special', 'enc_A4-mainweapon', 'enc_A4-reskin',\n",
      "       'enc_B1-category1', 'enc_B1-category2', 'enc_B1-subweapon',\n",
      "       'enc_B1-special', 'enc_B1-mainweapon', 'enc_B1-reskin',\n",
      "       'enc_B2-category1', 'enc_B2-category2', 'enc_B2-subweapon',\n",
      "       'enc_B2-special', 'enc_B2-mainweapon', 'enc_B2-reskin',\n",
      "       'enc_B3-category1', 'enc_B3-category2', 'enc_B3-subweapon',\n",
      "       'enc_B3-special', 'enc_B3-mainweapon', 'enc_B3-reskin',\n",
      "       'enc_B4-category1', 'enc_B4-category2', 'enc_B4-subweapon',\n",
      "       'enc_B4-special', 'enc_B4-mainweapon', 'enc_B4-reskin'],\n",
      "      dtype='object')\n",
      "Index(['A1-level', 'A2-level', 'A3-level', 'A4-level', 'B1-level', 'B2-level',\n",
      "       'B3-level', 'B4-level', 'stage_size1', 'stage_size2', 'enc_period',\n",
      "       'enc_game-ver', 'enc_lobby-mode', 'enc_lobby', 'enc_mode', 'enc_stage',\n",
      "       'enc_A1-weapon', 'enc_A1-rank', 'enc_A2-weapon', 'enc_A2-rank',\n",
      "       'enc_A3-weapon', 'enc_A3-rank', 'enc_A4-weapon', 'enc_A4-rank',\n",
      "       'enc_B1-weapon', 'enc_B1-rank', 'enc_B2-weapon', 'enc_B2-rank',\n",
      "       'enc_B3-weapon', 'enc_B3-rank', 'enc_B4-weapon', 'enc_B4-rank',\n",
      "       'enc_A1-category1', 'enc_A1-category2', 'enc_A1-subweapon',\n",
      "       'enc_A1-special', 'enc_A1-mainweapon', 'enc_A1-reskin',\n",
      "       'enc_A2-category1', 'enc_A2-category2', 'enc_A2-subweapon',\n",
      "       'enc_A2-special', 'enc_A2-mainweapon', 'enc_A2-reskin',\n",
      "       'enc_A3-category1', 'enc_A3-category2', 'enc_A3-subweapon',\n",
      "       'enc_A3-special', 'enc_A3-mainweapon', 'enc_A3-reskin',\n",
      "       'enc_A4-category1', 'enc_A4-category2', 'enc_A4-subweapon',\n",
      "       'enc_A4-special', 'enc_A4-mainweapon', 'enc_A4-reskin',\n",
      "       'enc_B1-category1', 'enc_B1-category2', 'enc_B1-subweapon',\n",
      "       'enc_B1-special', 'enc_B1-mainweapon', 'enc_B1-reskin',\n",
      "       'enc_B2-category1', 'enc_B2-category2', 'enc_B2-subweapon',\n",
      "       'enc_B2-special', 'enc_B2-mainweapon', 'enc_B2-reskin',\n",
      "       'enc_B3-category1', 'enc_B3-category2', 'enc_B3-subweapon',\n",
      "       'enc_B3-special', 'enc_B3-mainweapon', 'enc_B3-reskin',\n",
      "       'enc_B4-category1', 'enc_B4-category2', 'enc_B4-subweapon',\n",
      "       'enc_B4-special', 'enc_B4-mainweapon', 'enc_B4-reskin'],\n",
      "      dtype='object')\n"
     ]
    }
   ],
   "source": [
    "# 訓練データとテストデータの列を確認\n",
    "print(train_input.columns)\n",
    "print(test_input.columns)"
   ]
  },
  {
   "cell_type": "markdown",
   "metadata": {},
   "source": [
    "# 学習の準備"
   ]
  },
  {
   "cell_type": "code",
   "execution_count": 219,
   "metadata": {},
   "outputs": [],
   "source": [
    "# 訓練データを説明変数と目的変数に分割\n",
    "target = train_input['y']\n",
    "train_x = train_input.drop('y',axis=1)\n",
    "# LGBMのパラメータを設定\n",
    "params = {\n",
    "    # 二値分類問題\n",
    "    'objective': 'binary',\n",
    "    # 損失関数は二値のlogloss\n",
    "    #'metric': 'auc',\n",
    "    'metric': 'binary_logloss',\n",
    "    # 最大イテレーション回数指定\n",
    "    'num_iterations' : 1000,\n",
    "    # early_stopping 回数指定\n",
    "    'early_stopping_rounds' : 100,\n",
    "}"
   ]
  },
  {
   "cell_type": "markdown",
   "metadata": {},
   "source": [
    "# 学習・予測の実行"
   ]
  },
  {
   "cell_type": "code",
   "execution_count": 220,
   "metadata": {},
   "outputs": [],
   "source": [
    "# k-分割交差検証を使って学習＆予測（K=10）\n",
    "FOLD_NUM = 10\n",
    "kf = KFold(n_splits=FOLD_NUM,\n",
    "              random_state=42)\n",
    "#lgbmのラウンド数を定義\n",
    "num_round = 10000"
   ]
  },
  {
   "cell_type": "code",
   "execution_count": 221,
   "metadata": {},
   "outputs": [
    {
     "name": "stdout",
     "output_type": "stream",
     "text": [
      "Fold : 0\n",
      "Training until validation scores don't improve for 100 rounds.\n",
      "[100]\ttrain's binary_logloss: 0.634065\tvalid's binary_logloss: 0.684154\n",
      "Early stopping, best iteration is:\n",
      "[72]\ttrain's binary_logloss: 0.646465\tvalid's binary_logloss: 0.683221\n",
      "Fold : 1\n",
      "Training until validation scores don't improve for 100 rounds.\n",
      "[100]\ttrain's binary_logloss: 0.633946\tvalid's binary_logloss: 0.680458\n",
      "Early stopping, best iteration is:\n",
      "[91]\ttrain's binary_logloss: 0.638003\tvalid's binary_logloss: 0.680022\n",
      "Fold : 2\n",
      "Training until validation scores don't improve for 100 rounds.\n",
      "[100]\ttrain's binary_logloss: 0.63433\tvalid's binary_logloss: 0.684864\n",
      "Early stopping, best iteration is:\n",
      "[82]\ttrain's binary_logloss: 0.641942\tvalid's binary_logloss: 0.68428\n",
      "Fold : 3\n",
      "Training until validation scores don't improve for 100 rounds.\n",
      "[100]\ttrain's binary_logloss: 0.634298\tvalid's binary_logloss: 0.685253\n",
      "Early stopping, best iteration is:\n",
      "[57]\ttrain's binary_logloss: 0.653094\tvalid's binary_logloss: 0.685024\n",
      "Fold : 4\n",
      "Training until validation scores don't improve for 100 rounds.\n",
      "[100]\ttrain's binary_logloss: 0.634393\tvalid's binary_logloss: 0.682669\n",
      "Early stopping, best iteration is:\n",
      "[86]\ttrain's binary_logloss: 0.640301\tvalid's binary_logloss: 0.682425\n",
      "Fold : 5\n",
      "Training until validation scores don't improve for 100 rounds.\n",
      "[100]\ttrain's binary_logloss: 0.63454\tvalid's binary_logloss: 0.683878\n",
      "Early stopping, best iteration is:\n",
      "[63]\ttrain's binary_logloss: 0.650899\tvalid's binary_logloss: 0.682739\n",
      "Fold : 6\n",
      "Training until validation scores don't improve for 100 rounds.\n",
      "[100]\ttrain's binary_logloss: 0.633727\tvalid's binary_logloss: 0.685075\n",
      "Early stopping, best iteration is:\n",
      "[43]\ttrain's binary_logloss: 0.66024\tvalid's binary_logloss: 0.683623\n",
      "Fold : 7\n",
      "Training until validation scores don't improve for 100 rounds.\n",
      "[100]\ttrain's binary_logloss: 0.633955\tvalid's binary_logloss: 0.683512\n",
      "Early stopping, best iteration is:\n",
      "[91]\ttrain's binary_logloss: 0.63792\tvalid's binary_logloss: 0.683008\n",
      "Fold : 8\n",
      "Training until validation scores don't improve for 100 rounds.\n",
      "[100]\ttrain's binary_logloss: 0.633702\tvalid's binary_logloss: 0.685102\n",
      "Early stopping, best iteration is:\n",
      "[70]\ttrain's binary_logloss: 0.646914\tvalid's binary_logloss: 0.684219\n",
      "Fold : 9\n",
      "Training until validation scores don't improve for 100 rounds.\n",
      "[100]\ttrain's binary_logloss: 0.6335\tvalid's binary_logloss: 0.684607\n",
      "Early stopping, best iteration is:\n",
      "[42]\ttrain's binary_logloss: 0.660687\tvalid's binary_logloss: 0.684266\n",
      "\n",
      "################################\n",
      "CV_score:0.5484611124086098\n"
     ]
    }
   ],
   "source": [
    "#検証時のスコアを初期化\n",
    "scores = []\n",
    "\n",
    "#テストデータの予測値を初期化\n",
    "pred_cv = np.zeros(len(test.index))\n",
    "\n",
    "\n",
    "for i, (tdx, vdx) in enumerate(kf.split(train_x, target)):\n",
    "    print(f'Fold : {i}')\n",
    "    # 訓練用データと検証用データに分割\n",
    "    X_train, X_valid, y_train, y_valid = train_x.iloc[tdx], train_x.iloc[vdx], target.values[tdx], target.values[vdx]\n",
    "    lgb_train = lgb.Dataset(X_train, y_train)\n",
    "    lgb_valid = lgb.Dataset(X_valid, y_valid)\n",
    "    \n",
    "    # 学習の実行\n",
    "    model = lgb.train(params, lgb_train, num_boost_round=num_round,\n",
    "                      valid_names=[\"train\", \"valid\"], valid_sets=[lgb_train, lgb_valid],\n",
    "                      verbose_eval=100)\n",
    "\n",
    "    # 検証データに対する予測値を求めて、勝敗（０　or　１）に変換\n",
    "    va_pred = np.round(model.predict(X_valid,num_iteration=model.best_iteration))\n",
    "    \n",
    "    # accuracyスコアを計算\n",
    "    score_ = accuracy_score(y_valid, va_pred)\n",
    "    \n",
    "    # フォールド毎の検証時のスコアを格納\n",
    "    scores.append(score_)\n",
    "    \n",
    "    #テストデータに対する予測値を求める\n",
    "    submission = model.predict(test_input,num_iteration=model.best_iteration)\n",
    "    \n",
    "    #テストデータに対する予測値をフォールド数で割って蓄積\n",
    "    #(フォールド毎の予測値の平均値を求めることと同じ)\n",
    "    pred_cv += submission/FOLD_NUM\n",
    "\n",
    "# 最終的なテストデータに対する予測値を勝敗（０　or　１）に変換\n",
    "pred_cv_int = np.round(pred_cv)\n",
    "\n",
    "# 最終的なaccuracyスコアを平均値で出力\n",
    "print('')\n",
    "print('################################')\n",
    "print('CV_score:'+ str(np.mean(scores)))"
   ]
  },
  {
   "cell_type": "code",
   "execution_count": 223,
   "metadata": {},
   "outputs": [],
   "source": [
    "# 提出用ファイルを作成する\n",
    "pd.DataFrame({\"id\": range(len(pred_cv_int)), \"y\": pred_cv_int.astype(np.int64) }).to_csv(\"../submit/submission_v0.2.csv\", index=False)"
   ]
  }
 ],
 "metadata": {
  "kernelspec": {
   "display_name": "Python 3",
   "language": "python",
   "name": "python3"
  },
  "language_info": {
   "codemirror_mode": {
    "name": "ipython",
    "version": 3
   },
   "file_extension": ".py",
   "mimetype": "text/x-python",
   "name": "python",
   "nbconvert_exporter": "python",
   "pygments_lexer": "ipython3",
   "version": "3.6.5"
  }
 },
 "nbformat": 4,
 "nbformat_minor": 2
}
