{
 "cells": [
  {
   "cell_type": "code",
   "execution_count": 210,
   "metadata": {},
   "outputs": [],
   "source": [
    "# ライブラリのインポート\n",
    "import pandas as pd\n",
    "import numpy as np\n",
    "import re\n",
    "import matplotlib.pyplot as plt\n",
    "import seaborn as sns\n",
    "import lightgbm as lgb\n",
    "from sklearn.model_selection import train_test_split\n",
    "from sklearn.model_selection import KFold\n",
    "from sklearn.metrics import accuracy_score\n",
    "import warnings\n",
    "warnings.filterwarnings('ignore')"
   ]
  },
  {
   "cell_type": "code",
   "execution_count": 211,
   "metadata": {},
   "outputs": [],
   "source": [
    "# データの読込\n",
    "train = pd.read_csv(\"../data/train_data.csv\")\n",
    "test = pd.read_csv('../data/test_data.csv')"
   ]
  },
  {
   "cell_type": "markdown",
   "metadata": {},
   "source": [
    "# データの確認"
   ]
  },
  {
   "cell_type": "code",
   "execution_count": 212,
   "metadata": {},
   "outputs": [],
   "source": [
    "def inspection_datas(df):\n",
    "    print('######################################')\n",
    "    print('①サイズ（行数、列数）の確認')\n",
    "    print(df.shape)\n",
    "    print('######################################')\n",
    "    print('②最初の５行の表示')\n",
    "    display(df.head())\n",
    "    print('######################################')\n",
    "    print('③各行のデータ型の確認（オブジェクト型の有無）')\n",
    "    display(df.info())\n",
    "    display(df.select_dtypes(include=object).columns)\n",
    "    print('######################################')\n",
    "    print('④各種統計値の確認（③で、Objectのものは統計されない）')\n",
    "    display(df.describe())\n",
    "    print('######################################')\n",
    "    print('➄欠損値がある列の確認')\n",
    "    null_df =df.isnull().sum()[df.columns[df.isnull().sum()!=0]]\n",
    "    display(null_df)\n",
    "    display(null_df.shape)\n",
    "    print('######################################')\n",
    "    print('⑥相関係数のヒートマップ')\n",
    "    sns.heatmap(df.corr())"
   ]
  },
  {
   "cell_type": "code",
   "execution_count": 213,
   "metadata": {
    "scrolled": false
   },
   "outputs": [
    {
     "name": "stdout",
     "output_type": "stream",
     "text": [
      "######################################\n",
      "①サイズ（行数、列数）の確認\n",
      "(66125, 32)\n",
      "######################################\n",
      "②最初の５行の表示\n"
     ]
    },
    {
     "data": {
      "text/html": [
       "<div>\n",
       "<style scoped>\n",
       "    .dataframe tbody tr th:only-of-type {\n",
       "        vertical-align: middle;\n",
       "    }\n",
       "\n",
       "    .dataframe tbody tr th {\n",
       "        vertical-align: top;\n",
       "    }\n",
       "\n",
       "    .dataframe thead th {\n",
       "        text-align: right;\n",
       "    }\n",
       "</style>\n",
       "<table border=\"1\" class=\"dataframe\">\n",
       "  <thead>\n",
       "    <tr style=\"text-align: right;\">\n",
       "      <th></th>\n",
       "      <th>id</th>\n",
       "      <th>period</th>\n",
       "      <th>game-ver</th>\n",
       "      <th>lobby-mode</th>\n",
       "      <th>lobby</th>\n",
       "      <th>mode</th>\n",
       "      <th>stage</th>\n",
       "      <th>A1-weapon</th>\n",
       "      <th>A1-rank</th>\n",
       "      <th>A1-level</th>\n",
       "      <th>...</th>\n",
       "      <th>B2-weapon</th>\n",
       "      <th>B2-rank</th>\n",
       "      <th>B2-level</th>\n",
       "      <th>B3-weapon</th>\n",
       "      <th>B3-rank</th>\n",
       "      <th>B3-level</th>\n",
       "      <th>B4-weapon</th>\n",
       "      <th>B4-rank</th>\n",
       "      <th>B4-level</th>\n",
       "      <th>y</th>\n",
       "    </tr>\n",
       "  </thead>\n",
       "  <tbody>\n",
       "    <tr>\n",
       "      <th>0</th>\n",
       "      <td>1</td>\n",
       "      <td>2019-10-15T20:00:00+00:00</td>\n",
       "      <td>5.0.1</td>\n",
       "      <td>regular</td>\n",
       "      <td>standard</td>\n",
       "      <td>nawabari</td>\n",
       "      <td>sumeshi</td>\n",
       "      <td>sshooter_becchu</td>\n",
       "      <td>NaN</td>\n",
       "      <td>139</td>\n",
       "      <td>...</td>\n",
       "      <td>hokusai_becchu</td>\n",
       "      <td>NaN</td>\n",
       "      <td>26.0</td>\n",
       "      <td>herocharger_replica</td>\n",
       "      <td>NaN</td>\n",
       "      <td>68.0</td>\n",
       "      <td>sharp_neo</td>\n",
       "      <td>NaN</td>\n",
       "      <td>31.0</td>\n",
       "      <td>1</td>\n",
       "    </tr>\n",
       "    <tr>\n",
       "      <th>1</th>\n",
       "      <td>2</td>\n",
       "      <td>2019-12-14T04:00:00+00:00</td>\n",
       "      <td>5.0.1</td>\n",
       "      <td>regular</td>\n",
       "      <td>standard</td>\n",
       "      <td>nawabari</td>\n",
       "      <td>arowana</td>\n",
       "      <td>parashelter_sorella</td>\n",
       "      <td>NaN</td>\n",
       "      <td>198</td>\n",
       "      <td>...</td>\n",
       "      <td>squiclean_b</td>\n",
       "      <td>NaN</td>\n",
       "      <td>118.0</td>\n",
       "      <td>campingshelter</td>\n",
       "      <td>NaN</td>\n",
       "      <td>168.0</td>\n",
       "      <td>sputtery_clear</td>\n",
       "      <td>NaN</td>\n",
       "      <td>151.0</td>\n",
       "      <td>0</td>\n",
       "    </tr>\n",
       "    <tr>\n",
       "      <th>2</th>\n",
       "      <td>3</td>\n",
       "      <td>2019-12-25T14:00:00+00:00</td>\n",
       "      <td>5.0.1</td>\n",
       "      <td>gachi</td>\n",
       "      <td>standard</td>\n",
       "      <td>hoko</td>\n",
       "      <td>ama</td>\n",
       "      <td>nzap89</td>\n",
       "      <td>a-</td>\n",
       "      <td>114</td>\n",
       "      <td>...</td>\n",
       "      <td>nzap85</td>\n",
       "      <td>a+</td>\n",
       "      <td>163.0</td>\n",
       "      <td>prime_becchu</td>\n",
       "      <td>a-</td>\n",
       "      <td>160.0</td>\n",
       "      <td>dualsweeper_custom</td>\n",
       "      <td>a</td>\n",
       "      <td>126.0</td>\n",
       "      <td>0</td>\n",
       "    </tr>\n",
       "    <tr>\n",
       "      <th>3</th>\n",
       "      <td>4</td>\n",
       "      <td>2019-11-11T14:00:00+00:00</td>\n",
       "      <td>5.0.1</td>\n",
       "      <td>regular</td>\n",
       "      <td>standard</td>\n",
       "      <td>nawabari</td>\n",
       "      <td>engawa</td>\n",
       "      <td>bamboo14mk1</td>\n",
       "      <td>NaN</td>\n",
       "      <td>336</td>\n",
       "      <td>...</td>\n",
       "      <td>liter4k</td>\n",
       "      <td>NaN</td>\n",
       "      <td>189.0</td>\n",
       "      <td>promodeler_mg</td>\n",
       "      <td>NaN</td>\n",
       "      <td>194.0</td>\n",
       "      <td>hotblaster_custom</td>\n",
       "      <td>NaN</td>\n",
       "      <td>391.0</td>\n",
       "      <td>0</td>\n",
       "    </tr>\n",
       "    <tr>\n",
       "      <th>4</th>\n",
       "      <td>5</td>\n",
       "      <td>2019-12-14T06:00:00+00:00</td>\n",
       "      <td>5.0.1</td>\n",
       "      <td>gachi</td>\n",
       "      <td>standard</td>\n",
       "      <td>hoko</td>\n",
       "      <td>chozame</td>\n",
       "      <td>bold_7</td>\n",
       "      <td>x</td>\n",
       "      <td>299</td>\n",
       "      <td>...</td>\n",
       "      <td>sputtery_hue</td>\n",
       "      <td>x</td>\n",
       "      <td>45.0</td>\n",
       "      <td>bucketslosher_soda</td>\n",
       "      <td>x</td>\n",
       "      <td>246.0</td>\n",
       "      <td>wakaba</td>\n",
       "      <td>x</td>\n",
       "      <td>160.0</td>\n",
       "      <td>1</td>\n",
       "    </tr>\n",
       "  </tbody>\n",
       "</table>\n",
       "<p>5 rows × 32 columns</p>\n",
       "</div>"
      ],
      "text/plain": [
       "   id                     period game-ver lobby-mode     lobby      mode  \\\n",
       "0   1  2019-10-15T20:00:00+00:00    5.0.1    regular  standard  nawabari   \n",
       "1   2  2019-12-14T04:00:00+00:00    5.0.1    regular  standard  nawabari   \n",
       "2   3  2019-12-25T14:00:00+00:00    5.0.1      gachi  standard      hoko   \n",
       "3   4  2019-11-11T14:00:00+00:00    5.0.1    regular  standard  nawabari   \n",
       "4   5  2019-12-14T06:00:00+00:00    5.0.1      gachi  standard      hoko   \n",
       "\n",
       "     stage            A1-weapon A1-rank  A1-level ...       B2-weapon B2-rank  \\\n",
       "0  sumeshi      sshooter_becchu     NaN       139 ...  hokusai_becchu     NaN   \n",
       "1  arowana  parashelter_sorella     NaN       198 ...     squiclean_b     NaN   \n",
       "2      ama               nzap89      a-       114 ...          nzap85      a+   \n",
       "3   engawa          bamboo14mk1     NaN       336 ...         liter4k     NaN   \n",
       "4  chozame               bold_7       x       299 ...    sputtery_hue       x   \n",
       "\n",
       "   B2-level            B3-weapon B3-rank  B3-level           B4-weapon  \\\n",
       "0      26.0  herocharger_replica     NaN      68.0           sharp_neo   \n",
       "1     118.0       campingshelter     NaN     168.0      sputtery_clear   \n",
       "2     163.0         prime_becchu      a-     160.0  dualsweeper_custom   \n",
       "3     189.0        promodeler_mg     NaN     194.0   hotblaster_custom   \n",
       "4      45.0   bucketslosher_soda       x     246.0              wakaba   \n",
       "\n",
       "  B4-rank  B4-level  y  \n",
       "0     NaN      31.0  1  \n",
       "1     NaN     151.0  0  \n",
       "2       a     126.0  0  \n",
       "3     NaN     391.0  0  \n",
       "4       x     160.0  1  \n",
       "\n",
       "[5 rows x 32 columns]"
      ]
     },
     "metadata": {},
     "output_type": "display_data"
    },
    {
     "name": "stdout",
     "output_type": "stream",
     "text": [
      "######################################\n",
      "③各行のデータ型の確認（オブジェクト型の有無）\n",
      "<class 'pandas.core.frame.DataFrame'>\n",
      "RangeIndex: 66125 entries, 0 to 66124\n",
      "Data columns (total 32 columns):\n",
      "id            66125 non-null int64\n",
      "period        66125 non-null object\n",
      "game-ver      66125 non-null object\n",
      "lobby-mode    66125 non-null object\n",
      "lobby         66125 non-null object\n",
      "mode          66125 non-null object\n",
      "stage         66125 non-null object\n",
      "A1-weapon     66125 non-null object\n",
      "A1-rank       51681 non-null object\n",
      "A1-level      66125 non-null int64\n",
      "A2-weapon     66125 non-null object\n",
      "A2-rank       51681 non-null object\n",
      "A2-level      66125 non-null float64\n",
      "A3-weapon     66125 non-null object\n",
      "A3-rank       51681 non-null object\n",
      "A3-level      66125 non-null float64\n",
      "A4-weapon     66074 non-null object\n",
      "A4-rank       51638 non-null object\n",
      "A4-level      66074 non-null float64\n",
      "B1-weapon     66125 non-null object\n",
      "B1-rank       51681 non-null object\n",
      "B1-level      66125 non-null int64\n",
      "B2-weapon     66125 non-null object\n",
      "B2-rank       51681 non-null object\n",
      "B2-level      66125 non-null float64\n",
      "B3-weapon     66124 non-null object\n",
      "B3-rank       51681 non-null object\n",
      "B3-level      66124 non-null float64\n",
      "B4-weapon     66058 non-null object\n",
      "B4-rank       51624 non-null object\n",
      "B4-level      66058 non-null float64\n",
      "y             66125 non-null int64\n",
      "dtypes: float64(6), int64(4), object(22)\n",
      "memory usage: 16.1+ MB\n"
     ]
    },
    {
     "data": {
      "text/plain": [
       "None"
      ]
     },
     "metadata": {},
     "output_type": "display_data"
    },
    {
     "data": {
      "text/plain": [
       "Index(['period', 'game-ver', 'lobby-mode', 'lobby', 'mode', 'stage',\n",
       "       'A1-weapon', 'A1-rank', 'A2-weapon', 'A2-rank', 'A3-weapon', 'A3-rank',\n",
       "       'A4-weapon', 'A4-rank', 'B1-weapon', 'B1-rank', 'B2-weapon', 'B2-rank',\n",
       "       'B3-weapon', 'B3-rank', 'B4-weapon', 'B4-rank'],\n",
       "      dtype='object')"
      ]
     },
     "metadata": {},
     "output_type": "display_data"
    },
    {
     "name": "stdout",
     "output_type": "stream",
     "text": [
      "######################################\n",
      "④各種統計値の確認（③で、Objectのものは統計されない）\n"
     ]
    },
    {
     "data": {
      "text/html": [
       "<div>\n",
       "<style scoped>\n",
       "    .dataframe tbody tr th:only-of-type {\n",
       "        vertical-align: middle;\n",
       "    }\n",
       "\n",
       "    .dataframe tbody tr th {\n",
       "        vertical-align: top;\n",
       "    }\n",
       "\n",
       "    .dataframe thead th {\n",
       "        text-align: right;\n",
       "    }\n",
       "</style>\n",
       "<table border=\"1\" class=\"dataframe\">\n",
       "  <thead>\n",
       "    <tr style=\"text-align: right;\">\n",
       "      <th></th>\n",
       "      <th>id</th>\n",
       "      <th>A1-level</th>\n",
       "      <th>A2-level</th>\n",
       "      <th>A3-level</th>\n",
       "      <th>A4-level</th>\n",
       "      <th>B1-level</th>\n",
       "      <th>B2-level</th>\n",
       "      <th>B3-level</th>\n",
       "      <th>B4-level</th>\n",
       "      <th>y</th>\n",
       "    </tr>\n",
       "  </thead>\n",
       "  <tbody>\n",
       "    <tr>\n",
       "      <th>count</th>\n",
       "      <td>66125.000000</td>\n",
       "      <td>66125.000000</td>\n",
       "      <td>66125.000000</td>\n",
       "      <td>66125.000000</td>\n",
       "      <td>66074.000000</td>\n",
       "      <td>66125.000000</td>\n",
       "      <td>66125.000000</td>\n",
       "      <td>66124.000000</td>\n",
       "      <td>66058.000000</td>\n",
       "      <td>66125.000000</td>\n",
       "    </tr>\n",
       "    <tr>\n",
       "      <th>mean</th>\n",
       "      <td>33063.000000</td>\n",
       "      <td>208.838926</td>\n",
       "      <td>155.351698</td>\n",
       "      <td>153.175229</td>\n",
       "      <td>156.001619</td>\n",
       "      <td>156.378722</td>\n",
       "      <td>152.764749</td>\n",
       "      <td>153.105393</td>\n",
       "      <td>157.869736</td>\n",
       "      <td>0.524703</td>\n",
       "    </tr>\n",
       "    <tr>\n",
       "      <th>std</th>\n",
       "      <td>19088.787612</td>\n",
       "      <td>118.986528</td>\n",
       "      <td>96.183950</td>\n",
       "      <td>95.470733</td>\n",
       "      <td>95.524571</td>\n",
       "      <td>97.109501</td>\n",
       "      <td>95.373534</td>\n",
       "      <td>94.891705</td>\n",
       "      <td>95.777647</td>\n",
       "      <td>0.499393</td>\n",
       "    </tr>\n",
       "    <tr>\n",
       "      <th>min</th>\n",
       "      <td>1.000000</td>\n",
       "      <td>1.000000</td>\n",
       "      <td>1.000000</td>\n",
       "      <td>1.000000</td>\n",
       "      <td>1.000000</td>\n",
       "      <td>1.000000</td>\n",
       "      <td>1.000000</td>\n",
       "      <td>1.000000</td>\n",
       "      <td>1.000000</td>\n",
       "      <td>0.000000</td>\n",
       "    </tr>\n",
       "    <tr>\n",
       "      <th>25%</th>\n",
       "      <td>16532.000000</td>\n",
       "      <td>120.000000</td>\n",
       "      <td>82.000000</td>\n",
       "      <td>80.000000</td>\n",
       "      <td>84.000000</td>\n",
       "      <td>83.000000</td>\n",
       "      <td>80.000000</td>\n",
       "      <td>81.000000</td>\n",
       "      <td>86.000000</td>\n",
       "      <td>0.000000</td>\n",
       "    </tr>\n",
       "    <tr>\n",
       "      <th>50%</th>\n",
       "      <td>33063.000000</td>\n",
       "      <td>188.000000</td>\n",
       "      <td>139.000000</td>\n",
       "      <td>137.000000</td>\n",
       "      <td>140.000000</td>\n",
       "      <td>139.000000</td>\n",
       "      <td>136.000000</td>\n",
       "      <td>137.000000</td>\n",
       "      <td>142.000000</td>\n",
       "      <td>1.000000</td>\n",
       "    </tr>\n",
       "    <tr>\n",
       "      <th>75%</th>\n",
       "      <td>49594.000000</td>\n",
       "      <td>277.000000</td>\n",
       "      <td>208.000000</td>\n",
       "      <td>205.000000</td>\n",
       "      <td>208.000000</td>\n",
       "      <td>210.000000</td>\n",
       "      <td>205.000000</td>\n",
       "      <td>205.000000</td>\n",
       "      <td>212.000000</td>\n",
       "      <td>1.000000</td>\n",
       "    </tr>\n",
       "    <tr>\n",
       "      <th>max</th>\n",
       "      <td>66125.000000</td>\n",
       "      <td>585.000000</td>\n",
       "      <td>913.000000</td>\n",
       "      <td>920.000000</td>\n",
       "      <td>931.000000</td>\n",
       "      <td>920.000000</td>\n",
       "      <td>913.000000</td>\n",
       "      <td>933.000000</td>\n",
       "      <td>936.000000</td>\n",
       "      <td>1.000000</td>\n",
       "    </tr>\n",
       "  </tbody>\n",
       "</table>\n",
       "</div>"
      ],
      "text/plain": [
       "                 id      A1-level      A2-level      A3-level      A4-level  \\\n",
       "count  66125.000000  66125.000000  66125.000000  66125.000000  66074.000000   \n",
       "mean   33063.000000    208.838926    155.351698    153.175229    156.001619   \n",
       "std    19088.787612    118.986528     96.183950     95.470733     95.524571   \n",
       "min        1.000000      1.000000      1.000000      1.000000      1.000000   \n",
       "25%    16532.000000    120.000000     82.000000     80.000000     84.000000   \n",
       "50%    33063.000000    188.000000    139.000000    137.000000    140.000000   \n",
       "75%    49594.000000    277.000000    208.000000    205.000000    208.000000   \n",
       "max    66125.000000    585.000000    913.000000    920.000000    931.000000   \n",
       "\n",
       "           B1-level      B2-level      B3-level      B4-level             y  \n",
       "count  66125.000000  66125.000000  66124.000000  66058.000000  66125.000000  \n",
       "mean     156.378722    152.764749    153.105393    157.869736      0.524703  \n",
       "std       97.109501     95.373534     94.891705     95.777647      0.499393  \n",
       "min        1.000000      1.000000      1.000000      1.000000      0.000000  \n",
       "25%       83.000000     80.000000     81.000000     86.000000      0.000000  \n",
       "50%      139.000000    136.000000    137.000000    142.000000      1.000000  \n",
       "75%      210.000000    205.000000    205.000000    212.000000      1.000000  \n",
       "max      920.000000    913.000000    933.000000    936.000000      1.000000  "
      ]
     },
     "metadata": {},
     "output_type": "display_data"
    },
    {
     "name": "stdout",
     "output_type": "stream",
     "text": [
      "######################################\n",
      "➄欠損値がある列の確認\n"
     ]
    },
    {
     "data": {
      "text/plain": [
       "A1-rank      14444\n",
       "A2-rank      14444\n",
       "A3-rank      14444\n",
       "A4-weapon       51\n",
       "A4-rank      14487\n",
       "A4-level        51\n",
       "B1-rank      14444\n",
       "B2-rank      14444\n",
       "B3-weapon        1\n",
       "B3-rank      14444\n",
       "B3-level         1\n",
       "B4-weapon       67\n",
       "B4-rank      14501\n",
       "B4-level        67\n",
       "dtype: int64"
      ]
     },
     "metadata": {},
     "output_type": "display_data"
    },
    {
     "data": {
      "text/plain": [
       "(14,)"
      ]
     },
     "metadata": {},
     "output_type": "display_data"
    },
    {
     "name": "stdout",
     "output_type": "stream",
     "text": [
      "######################################\n",
      "⑥相関係数のヒートマップ\n"
     ]
    },
    {
     "data": {
      "image/png": "[encoded data removed]",
      "text/plain": [
       "<Figure size 432x288 with 2 Axes>"
      ]
     },
     "metadata": {},
     "output_type": "display_data"
    }
   ],
   "source": [
    "inspection_datas(train)"
   ]
  },
  {
   "cell_type": "markdown",
   "metadata": {},
   "source": [
    "# 前処理"
   ]
  },
  {
   "cell_type": "code",
   "execution_count": 214,
   "metadata": {},
   "outputs": [],
   "source": [
    "# 欠損値埋める\n",
    "def fill_all_null(df, num):\n",
    "    for col_name in df.columns[df.isnull().sum()!=0]:\n",
    "        df[col_name] = df[col_name].fillna(num)"
   ]
  },
  {
   "cell_type": "code",
   "execution_count": 215,
   "metadata": {},
   "outputs": [],
   "source": [
    "# 訓練データ、テストデータの欠損値を-1で補完\n",
    "fill_all_null(train, -1)\n",
    "fill_all_null(test, -1)"
   ]
  },
  {
   "cell_type": "code",
   "execution_count": 216,
   "metadata": {},
   "outputs": [],
   "source": [
    "# ターゲットエンコーディングの関数定義\n",
    "## Holdout TSを用いる 変更の余地あり\n",
    "def change_to_target2(train_df,test_df,input_column_name,output_column_name):\n",
    "    from sklearn.model_selection import KFold\n",
    "    \n",
    "    # nan埋め処理\n",
    "    ## 上でやってるのでいらない\n",
    "    # train_df[input_column_name] = train_df[input_column_name].fillna('-1')\n",
    "    # test_df[input_column_name] = test_df[input_column_name].fillna('-1')\n",
    "\n",
    "    kf = KFold(n_splits=5, shuffle=True, random_state=71)\n",
    "    #=========================================================#\n",
    "    c=input_column_name\n",
    "    # 学習データ全体で各カテゴリにおけるyの平均を計算\n",
    "    data_tmp = pd.DataFrame({c: train_df[c],'target':train_df['y']})\n",
    "    target_mean = data_tmp.groupby(c)['target'].mean()\n",
    "    #テストデータのカテゴリを置換★\n",
    "    test_df[output_column_name] = test_df[c].map(target_mean)\n",
    "    \n",
    "    # 変換後の値を格納する配列を準備\n",
    "    tmp = np.repeat(np.nan, train_df.shape[0])\n",
    "\n",
    "    for i, (train_index, test_index) in enumerate(kf.split(train_df)): # NFOLDS回まわる\n",
    "        #学習データについて、各カテゴリにおける目的変数の平均を計算\n",
    "        target_mean = data_tmp.iloc[train_index].groupby(c)['target'].mean()\n",
    "        #バリデーションデータについて、変換後の値を一時配列に格納\n",
    "        tmp[test_index] = train_df[c].iloc[test_index].map(target_mean) \n",
    "\n",
    "    #変換後のデータで元の変数を置換\n",
    "    train_df[output_column_name] = tmp\n",
    "#========================================================#   \n"
   ]
  },
  {
   "cell_type": "code",
   "execution_count": 217,
   "metadata": {},
   "outputs": [],
   "source": [
    "# オブジェクトの列のリストを作成\n",
    "object_col_list = train.select_dtypes(include=object).columns\n",
    "# オブジェクトの列は全てターゲットエンコーディング実施\n",
    "for col in object_col_list:\n",
    "    change_to_target2(train,test,col,\"enc_\"+col)\n",
    "#　変換前の列を削除\n",
    "train = train.drop(object_col_list,axis=1)\n",
    "test = test.drop(object_col_list,axis=1)\n",
    "#　'id'の列を削除\n",
    "train = train.drop('id',axis=1)\n",
    "test = test.drop('id',axis=1)"
   ]
  },
  {
   "cell_type": "code",
   "execution_count": 218,
   "metadata": {},
   "outputs": [
    {
     "data": {
      "text/plain": [
       "12"
      ]
     },
     "execution_count": 218,
     "metadata": {},
     "output_type": "execute_result"
    }
   ],
   "source": [
    "#　訓練データ欠損確認\n",
    "train.isnull().sum().sum()"
   ]
  },
  {
   "cell_type": "code",
   "execution_count": 219,
   "metadata": {},
   "outputs": [
    {
     "data": {
      "text/plain": [
       "2"
      ]
     },
     "execution_count": 219,
     "metadata": {},
     "output_type": "execute_result"
    }
   ],
   "source": [
    "#　テストデータ欠損確認\n",
    "test.isnull().sum().sum()"
   ]
  },
  {
   "cell_type": "code",
   "execution_count": 220,
   "metadata": {},
   "outputs": [],
   "source": [
    "# 欠損値はターゲットエンコーディング時に学習データが少なくなって平均値が計算できなくなってしまうため発生。0埋め。\n",
    "fill_all_null(train, 0)\n",
    "fill_all_null(test, 0)"
   ]
  },
  {
   "cell_type": "markdown",
   "metadata": {},
   "source": [
    "# データの確認"
   ]
  },
  {
   "cell_type": "code",
   "execution_count": 221,
   "metadata": {},
   "outputs": [
    {
     "name": "stdout",
     "output_type": "stream",
     "text": [
      "Index(['A1-level', 'A2-level', 'A3-level', 'A4-level', 'B1-level', 'B2-level',\n",
      "       'B3-level', 'B4-level', 'y', 'enc_period', 'enc_game-ver',\n",
      "       'enc_lobby-mode', 'enc_lobby', 'enc_mode', 'enc_stage', 'enc_A1-weapon',\n",
      "       'enc_A1-rank', 'enc_A2-weapon', 'enc_A2-rank', 'enc_A3-weapon',\n",
      "       'enc_A3-rank', 'enc_A4-weapon', 'enc_A4-rank', 'enc_B1-weapon',\n",
      "       'enc_B1-rank', 'enc_B2-weapon', 'enc_B2-rank', 'enc_B3-weapon',\n",
      "       'enc_B3-rank', 'enc_B4-weapon', 'enc_B4-rank'],\n",
      "      dtype='object')\n",
      "Index(['A1-level', 'A2-level', 'A3-level', 'A4-level', 'B1-level', 'B2-level',\n",
      "       'B3-level', 'B4-level', 'enc_period', 'enc_game-ver', 'enc_lobby-mode',\n",
      "       'enc_lobby', 'enc_mode', 'enc_stage', 'enc_A1-weapon', 'enc_A1-rank',\n",
      "       'enc_A2-weapon', 'enc_A2-rank', 'enc_A3-weapon', 'enc_A3-rank',\n",
      "       'enc_A4-weapon', 'enc_A4-rank', 'enc_B1-weapon', 'enc_B1-rank',\n",
      "       'enc_B2-weapon', 'enc_B2-rank', 'enc_B3-weapon', 'enc_B3-rank',\n",
      "       'enc_B4-weapon', 'enc_B4-rank'],\n",
      "      dtype='object')\n"
     ]
    }
   ],
   "source": [
    "# 訓練データとテストデータの列を確認\n",
    "print(train.columns)\n",
    "print(test.columns)"
   ]
  },
  {
   "cell_type": "markdown",
   "metadata": {},
   "source": [
    "# 学習の準備"
   ]
  },
  {
   "cell_type": "code",
   "execution_count": 222,
   "metadata": {},
   "outputs": [],
   "source": [
    "# 訓練データを説明変数と目的変数に分割\n",
    "target = train['y']\n",
    "train_x = train.drop('y',axis=1)\n",
    "# LGBMのパラメータを設定\n",
    "params = {\n",
    "    # 二値分類問題\n",
    "    'objective': 'binary',\n",
    "    # 損失関数は二値のlogloss\n",
    "    #'metric': 'auc',\n",
    "    'metric': 'binary_logloss',\n",
    "    # 最大イテレーション回数指定\n",
    "    'num_iterations' : 1000,\n",
    "    # early_stopping 回数指定\n",
    "    'early_stopping_rounds' : 100,\n",
    "}"
   ]
  },
  {
   "cell_type": "markdown",
   "metadata": {},
   "source": [
    "# 学習・予測の実行"
   ]
  },
  {
   "cell_type": "code",
   "execution_count": 223,
   "metadata": {},
   "outputs": [],
   "source": [
    "# k-分割交差検証を使って学習＆予測（K=10）\n",
    "FOLD_NUM = 10\n",
    "kf = KFold(n_splits=FOLD_NUM,\n",
    "              random_state=42)\n",
    "#lgbmのラウンド数を定義\n",
    "num_round = 10000"
   ]
  },
  {
   "cell_type": "code",
   "execution_count": 224,
   "metadata": {},
   "outputs": [
    {
     "name": "stdout",
     "output_type": "stream",
     "text": [
      "Fold : 0\n",
      "Training until validation scores don't improve for 100 rounds.\n",
      "[100]\ttrain's binary_logloss: 0.644702\tvalid's binary_logloss: 0.684698\n",
      "Early stopping, best iteration is:\n",
      "[65]\ttrain's binary_logloss: 0.657137\tvalid's binary_logloss: 0.684139\n",
      "Fold : 1\n",
      "Training until validation scores don't improve for 100 rounds.\n",
      "[100]\ttrain's binary_logloss: 0.644776\tvalid's binary_logloss: 0.683363\n",
      "Early stopping, best iteration is:\n",
      "[43]\ttrain's binary_logloss: 0.665449\tvalid's binary_logloss: 0.683229\n",
      "Fold : 2\n",
      "Training until validation scores don't improve for 100 rounds.\n",
      "[100]\ttrain's binary_logloss: 0.644349\tvalid's binary_logloss: 0.684731\n",
      "Early stopping, best iteration is:\n",
      "[69]\ttrain's binary_logloss: 0.655503\tvalid's binary_logloss: 0.684279\n",
      "Fold : 3\n",
      "Training until validation scores don't improve for 100 rounds.\n",
      "[100]\ttrain's binary_logloss: 0.644711\tvalid's binary_logloss: 0.687954\n",
      "Early stopping, best iteration is:\n",
      "[28]\ttrain's binary_logloss: 0.672176\tvalid's binary_logloss: 0.686551\n",
      "Fold : 4\n",
      "Training until validation scores don't improve for 100 rounds.\n",
      "[100]\ttrain's binary_logloss: 0.644709\tvalid's binary_logloss: 0.684207\n",
      "Early stopping, best iteration is:\n",
      "[96]\ttrain's binary_logloss: 0.646125\tvalid's binary_logloss: 0.684116\n",
      "Fold : 5\n",
      "Training until validation scores don't improve for 100 rounds.\n",
      "[100]\ttrain's binary_logloss: 0.64497\tvalid's binary_logloss: 0.686593\n",
      "Early stopping, best iteration is:\n",
      "[31]\ttrain's binary_logloss: 0.670882\tvalid's binary_logloss: 0.685175\n",
      "Fold : 6\n",
      "Training until validation scores don't improve for 100 rounds.\n",
      "[100]\ttrain's binary_logloss: 0.644828\tvalid's binary_logloss: 0.687752\n",
      "Early stopping, best iteration is:\n",
      "[36]\ttrain's binary_logloss: 0.66833\tvalid's binary_logloss: 0.686289\n",
      "Fold : 7\n",
      "Training until validation scores don't improve for 100 rounds.\n",
      "[100]\ttrain's binary_logloss: 0.644507\tvalid's binary_logloss: 0.685544\n",
      "Early stopping, best iteration is:\n",
      "[55]\ttrain's binary_logloss: 0.660785\tvalid's binary_logloss: 0.684983\n",
      "Fold : 8\n",
      "Training until validation scores don't improve for 100 rounds.\n",
      "[100]\ttrain's binary_logloss: 0.643791\tvalid's binary_logloss: 0.689486\n",
      "Early stopping, best iteration is:\n",
      "[49]\ttrain's binary_logloss: 0.662506\tvalid's binary_logloss: 0.688093\n",
      "Fold : 9\n",
      "Training until validation scores don't improve for 100 rounds.\n",
      "[100]\ttrain's binary_logloss: 0.644556\tvalid's binary_logloss: 0.68535\n",
      "Early stopping, best iteration is:\n",
      "[49]\ttrain's binary_logloss: 0.663186\tvalid's binary_logloss: 0.684734\n",
      "\n",
      "################################\n",
      "CV_score:0.5422608166337932\n"
     ]
    }
   ],
   "source": [
    "#検証時のスコアを初期化\n",
    "scores = []\n",
    "\n",
    "#テストデータの予測値を初期化\n",
    "pred_cv = np.zeros(len(test.index))\n",
    "\n",
    "\n",
    "for i, (tdx, vdx) in enumerate(kf.split(train_x, target)):\n",
    "    print(f'Fold : {i}')\n",
    "    # 訓練用データと検証用データに分割\n",
    "    X_train, X_valid, y_train, y_valid = train_x.iloc[tdx], train_x.iloc[vdx], target.values[tdx], target.values[vdx]\n",
    "    lgb_train = lgb.Dataset(X_train, y_train)\n",
    "    lgb_valid = lgb.Dataset(X_valid, y_valid)\n",
    "    \n",
    "    # 学習の実行\n",
    "    model = lgb.train(params, lgb_train, num_boost_round=num_round,\n",
    "                      valid_names=[\"train\", \"valid\"], valid_sets=[lgb_train, lgb_valid],\n",
    "                      verbose_eval=100)\n",
    "\n",
    "    # 検証データに対する予測値を求めて、勝敗（０　or　１）に変換\n",
    "    va_pred = np.round(model.predict(X_valid,num_iteration=model.best_iteration))\n",
    "    \n",
    "    # accuracyスコアを計算\n",
    "    score_ = accuracy_score(y_valid, va_pred)\n",
    "    \n",
    "    # フォールド毎の検証時のスコアを格納\n",
    "    scores.append(score_)\n",
    "    \n",
    "    #テストデータに対する予測値を求める\n",
    "    submission = model.predict(test,num_iteration=model.best_iteration)\n",
    "    \n",
    "    #テストデータに対する予測値をフォールド数で割って蓄積\n",
    "    #(フォールド毎の予測値の平均値を求めることと同じ)\n",
    "    pred_cv += submission/FOLD_NUM\n",
    "\n",
    "# 最終的なテストデータに対する予測値を勝敗（０　or　１）に変換\n",
    "pred_cv_int = np.round(pred_cv)\n",
    "\n",
    "# 最終的なaccuracyスコアを平均値で出力\n",
    "print('')\n",
    "print('################################')\n",
    "print('CV_score:'+ str(np.mean(scores)))"
   ]
  },
  {
   "cell_type": "code",
   "execution_count": 225,
   "metadata": {},
   "outputs": [],
   "source": [
    "# 提出用ファイルを作成する\n",
    "pd.DataFrame({\"id\": range(len(pred_cv_int)), \"y\": pred_cv_int.astype(np.int64) }).to_csv(\"submission_v0.1.csv\", index=False)"
   ]
  },
  {
   "cell_type": "code",
   "execution_count": null,
   "metadata": {},
   "outputs": [],
   "source": []
  }
 ],
 "metadata": {
  "kernelspec": {
   "display_name": "Python 3",
   "language": "python",
   "name": "python3"
  },
  "language_info": {
   "codemirror_mode": {
    "name": "ipython",
    "version": 3
   },
   "file_extension": ".py",
   "mimetype": "text/x-python",
   "name": "python",
   "nbconvert_exporter": "python",
   "pygments_lexer": "ipython3",
   "version": "3.6.5"
  }
 },
 "nbformat": 4,
 "nbformat_minor": 2
}
