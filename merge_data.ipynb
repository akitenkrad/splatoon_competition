{
 "cells": [
  {
   "cell_type": "code",
   "execution_count": 174,
   "metadata": {},
   "outputs": [],
   "source": [
    "import pandas as pd\n",
    "import numpy as np"
   ]
  },
  {
   "cell_type": "code",
   "execution_count": 175,
   "metadata": {},
   "outputs": [],
   "source": [
    "# データの読込\n",
    "train = pd.read_csv(\"../data/train_data.csv\")\n",
    "test = pd.read_csv('../data/test_data.csv')"
   ]
  },
  {
   "cell_type": "code",
   "execution_count": 176,
   "metadata": {},
   "outputs": [],
   "source": [
    "# 外部データの読込\n",
    "# stage,stage2は若干面積が異なる、バージョンによる違いや計算方法による誤差\n",
    "stage = pd.read_csv('../data/gaibudata/stagedata.csv')\n",
    "stage2 = pd.read_json('../data/gaibudata/stage.json')\n",
    "weapon = pd.read_csv('../data/gaibudata/statink-weapon2.csv')"
   ]
  },
  {
   "cell_type": "code",
   "execution_count": 177,
   "metadata": {
    "scrolled": true
   },
   "outputs": [
    {
     "data": {
      "text/html": [
       "<div>\n",
       "<style scoped>\n",
       "    .dataframe tbody tr th:only-of-type {\n",
       "        vertical-align: middle;\n",
       "    }\n",
       "\n",
       "    .dataframe tbody tr th {\n",
       "        vertical-align: top;\n",
       "    }\n",
       "\n",
       "    .dataframe thead th {\n",
       "        text-align: right;\n",
       "    }\n",
       "</style>\n",
       "<table border=\"1\" class=\"dataframe\">\n",
       "  <thead>\n",
       "    <tr style=\"text-align: right;\">\n",
       "      <th></th>\n",
       "      <th>stage</th>\n",
       "      <th>size</th>\n",
       "    </tr>\n",
       "  </thead>\n",
       "  <tbody>\n",
       "    <tr>\n",
       "      <th>0</th>\n",
       "      <td>sumeshi</td>\n",
       "      <td>2855.0</td>\n",
       "    </tr>\n",
       "    <tr>\n",
       "      <th>1</th>\n",
       "      <td>arowana</td>\n",
       "      <td>2391.0</td>\n",
       "    </tr>\n",
       "    <tr>\n",
       "      <th>2</th>\n",
       "      <td>ama</td>\n",
       "      <td>2426.0</td>\n",
       "    </tr>\n",
       "    <tr>\n",
       "      <th>3</th>\n",
       "      <td>engawa</td>\n",
       "      <td>2237.4</td>\n",
       "    </tr>\n",
       "    <tr>\n",
       "      <th>4</th>\n",
       "      <td>chozame</td>\n",
       "      <td>2390.0</td>\n",
       "    </tr>\n",
       "  </tbody>\n",
       "</table>\n",
       "</div>"
      ],
      "text/plain": [
       "     stage    size\n",
       "0  sumeshi  2855.0\n",
       "1  arowana  2391.0\n",
       "2      ama  2426.0\n",
       "3   engawa  2237.4\n",
       "4  chozame  2390.0"
      ]
     },
     "execution_count": 177,
     "metadata": {},
     "output_type": "execute_result"
    }
   ],
   "source": [
    "stage.head()"
   ]
  },
  {
   "cell_type": "code",
   "execution_count": 178,
   "metadata": {},
   "outputs": [
    {
     "data": {
      "text/html": [
       "<div>\n",
       "<style scoped>\n",
       "    .dataframe tbody tr th:only-of-type {\n",
       "        vertical-align: middle;\n",
       "    }\n",
       "\n",
       "    .dataframe tbody tr th {\n",
       "        vertical-align: top;\n",
       "    }\n",
       "\n",
       "    .dataframe thead th {\n",
       "        text-align: right;\n",
       "    }\n",
       "</style>\n",
       "<table border=\"1\" class=\"dataframe\">\n",
       "  <thead>\n",
       "    <tr style=\"text-align: right;\">\n",
       "      <th></th>\n",
       "      <th>area</th>\n",
       "      <th>key</th>\n",
       "      <th>name</th>\n",
       "      <th>release_at</th>\n",
       "      <th>short_name</th>\n",
       "      <th>splatnet</th>\n",
       "    </tr>\n",
       "  </thead>\n",
       "  <tbody>\n",
       "    <tr>\n",
       "      <th>0</th>\n",
       "      <td>2450.0</td>\n",
       "      <td>battera</td>\n",
       "      <td>{'de_DE': 'Korallenviertel', 'en_GB': 'The Ree...</td>\n",
       "      <td>{'time': 1490382000, 'iso8601': '2017-03-24T19...</td>\n",
       "      <td>{'de_DE': 'Korallenviertel', 'en_GB': 'Reef', ...</td>\n",
       "      <td>0</td>\n",
       "    </tr>\n",
       "    <tr>\n",
       "      <th>1</th>\n",
       "      <td>1957.0</td>\n",
       "      <td>fujitsubo</td>\n",
       "      <td>{'de_DE': 'Molluskelbude', 'en_GB': 'Musselfor...</td>\n",
       "      <td>{'time': 1490382000, 'iso8601': '2017-03-24T19...</td>\n",
       "      <td>{'de_DE': 'Molluskelbude', 'en_GB': 'Fitness',...</td>\n",
       "      <td>1</td>\n",
       "    </tr>\n",
       "    <tr>\n",
       "      <th>2</th>\n",
       "      <td>2140.0</td>\n",
       "      <td>gangaze</td>\n",
       "      <td>{'de_DE': 'Seeigel-Rockbühne', 'en_GB': 'Starf...</td>\n",
       "      <td>{'time': 1500105600, 'iso8601': '2017-07-15T08...</td>\n",
       "      <td>{'de_DE': 'Seeigel-Rockbühne', 'en_GB': 'Mains...</td>\n",
       "      <td>2</td>\n",
       "    </tr>\n",
       "    <tr>\n",
       "      <th>3</th>\n",
       "      <td>2259.0</td>\n",
       "      <td>kombu</td>\n",
       "      <td>{'de_DE': 'Buckelwal-Piste', 'en_GB': 'Humpbac...</td>\n",
       "      <td>{'time': 1500105600, 'iso8601': '2017-07-15T08...</td>\n",
       "      <td>{'de_DE': 'Buckelwal-Piste', 'en_GB': 'Track',...</td>\n",
       "      <td>5</td>\n",
       "    </tr>\n",
       "    <tr>\n",
       "      <th>4</th>\n",
       "      <td>2465.0</td>\n",
       "      <td>ama</td>\n",
       "      <td>{'de_DE': 'Perlmutt-Akademie', 'en_GB': 'Inkbl...</td>\n",
       "      <td>{'time': 1500105600, 'iso8601': '2017-07-15T08...</td>\n",
       "      <td>{'de_DE': 'Perlmutt-Akademie', 'en_GB': 'Acade...</td>\n",
       "      <td>4</td>\n",
       "    </tr>\n",
       "  </tbody>\n",
       "</table>\n",
       "</div>"
      ],
      "text/plain": [
       "     area        key                                               name  \\\n",
       "0  2450.0    battera  {'de_DE': 'Korallenviertel', 'en_GB': 'The Ree...   \n",
       "1  1957.0  fujitsubo  {'de_DE': 'Molluskelbude', 'en_GB': 'Musselfor...   \n",
       "2  2140.0    gangaze  {'de_DE': 'Seeigel-Rockbühne', 'en_GB': 'Starf...   \n",
       "3  2259.0      kombu  {'de_DE': 'Buckelwal-Piste', 'en_GB': 'Humpbac...   \n",
       "4  2465.0        ama  {'de_DE': 'Perlmutt-Akademie', 'en_GB': 'Inkbl...   \n",
       "\n",
       "                                          release_at  \\\n",
       "0  {'time': 1490382000, 'iso8601': '2017-03-24T19...   \n",
       "1  {'time': 1490382000, 'iso8601': '2017-03-24T19...   \n",
       "2  {'time': 1500105600, 'iso8601': '2017-07-15T08...   \n",
       "3  {'time': 1500105600, 'iso8601': '2017-07-15T08...   \n",
       "4  {'time': 1500105600, 'iso8601': '2017-07-15T08...   \n",
       "\n",
       "                                          short_name  splatnet  \n",
       "0  {'de_DE': 'Korallenviertel', 'en_GB': 'Reef', ...         0  \n",
       "1  {'de_DE': 'Molluskelbude', 'en_GB': 'Fitness',...         1  \n",
       "2  {'de_DE': 'Seeigel-Rockbühne', 'en_GB': 'Mains...         2  \n",
       "3  {'de_DE': 'Buckelwal-Piste', 'en_GB': 'Track',...         5  \n",
       "4  {'de_DE': 'Perlmutt-Akademie', 'en_GB': 'Acade...         4  "
      ]
     },
     "execution_count": 178,
     "metadata": {},
     "output_type": "execute_result"
    }
   ],
   "source": [
    "stage2.head()"
   ]
  },
  {
   "cell_type": "code",
   "execution_count": 179,
   "metadata": {},
   "outputs": [
    {
     "data": {
      "text/html": [
       "<div>\n",
       "<style scoped>\n",
       "    .dataframe tbody tr th:only-of-type {\n",
       "        vertical-align: middle;\n",
       "    }\n",
       "\n",
       "    .dataframe tbody tr th {\n",
       "        vertical-align: top;\n",
       "    }\n",
       "\n",
       "    .dataframe thead th {\n",
       "        text-align: right;\n",
       "    }\n",
       "</style>\n",
       "<table border=\"1\" class=\"dataframe\">\n",
       "  <thead>\n",
       "    <tr style=\"text-align: right;\">\n",
       "      <th></th>\n",
       "      <th>category1</th>\n",
       "      <th>category2</th>\n",
       "      <th>key</th>\n",
       "      <th>subweapon</th>\n",
       "      <th>special</th>\n",
       "      <th>mainweapon</th>\n",
       "      <th>reskin</th>\n",
       "      <th>splatnet</th>\n",
       "      <th>[de-DE]</th>\n",
       "      <th>[en-GB]</th>\n",
       "      <th>...</th>\n",
       "      <th>[es-ES]</th>\n",
       "      <th>[es-MX]</th>\n",
       "      <th>[fr-CA]</th>\n",
       "      <th>[fr-FR]</th>\n",
       "      <th>[it-IT]</th>\n",
       "      <th>[ja-JP]</th>\n",
       "      <th>[nl-NL]</th>\n",
       "      <th>[ru-RU]</th>\n",
       "      <th>[zh-CN]</th>\n",
       "      <th>[zh-TW]</th>\n",
       "    </tr>\n",
       "  </thead>\n",
       "  <tbody>\n",
       "    <tr>\n",
       "      <th>0</th>\n",
       "      <td>shooter</td>\n",
       "      <td>shooter</td>\n",
       "      <td>52gal</td>\n",
       "      <td>pointsensor</td>\n",
       "      <td>sphere</td>\n",
       "      <td>52gal</td>\n",
       "      <td>52gal</td>\n",
       "      <td>50</td>\n",
       "      <td>.52 Gallon</td>\n",
       "      <td>.52 Gal</td>\n",
       "      <td>...</td>\n",
       "      <td>Salpicadora 2000</td>\n",
       "      <td>Salpicadora 2000</td>\n",
       "      <td>Calibre 2000</td>\n",
       "      <td>Calibre 2000</td>\n",
       "      <td>Calibro 2000</td>\n",
       "      <td>.52ガロン</td>\n",
       "      <td>.52 Kaliter</td>\n",
       "      <td>Струевик .52</td>\n",
       "      <td>点52口径重枪</td>\n",
       "      <td>點52口徑重槍</td>\n",
       "    </tr>\n",
       "    <tr>\n",
       "      <th>1</th>\n",
       "      <td>shooter</td>\n",
       "      <td>shooter</td>\n",
       "      <td>52gal_deco</td>\n",
       "      <td>curlingbomb</td>\n",
       "      <td>presser</td>\n",
       "      <td>52gal</td>\n",
       "      <td>52gal_deco</td>\n",
       "      <td>51</td>\n",
       "      <td>.52 Gallon Deko</td>\n",
       "      <td>.52 Gal Deco</td>\n",
       "      <td>...</td>\n",
       "      <td>Salpicadora 2000 DX</td>\n",
       "      <td>Salpicadora 2000 chic</td>\n",
       "      <td>Calibre 2000 chic</td>\n",
       "      <td>Calibre 2000 chic</td>\n",
       "      <td>Calibro 2000 DX</td>\n",
       "      <td>.52ガロンデコ</td>\n",
       "      <td>.52 Kaliter Deco</td>\n",
       "      <td>Струевик .52 «Деко»</td>\n",
       "      <td>点52口径重枪 Deco</td>\n",
       "      <td>點52口徑重槍 Deco</td>\n",
       "    </tr>\n",
       "    <tr>\n",
       "      <th>2</th>\n",
       "      <td>shooter</td>\n",
       "      <td>shooter</td>\n",
       "      <td>96gal</td>\n",
       "      <td>sprinkler</td>\n",
       "      <td>armor</td>\n",
       "      <td>96gal</td>\n",
       "      <td>96gal</td>\n",
       "      <td>80</td>\n",
       "      <td>.96 Gallon</td>\n",
       "      <td>.96 Gal</td>\n",
       "      <td>...</td>\n",
       "      <td>Salpicadora 3000</td>\n",
       "      <td>Salpicadora 3000</td>\n",
       "      <td>Calibre 3000</td>\n",
       "      <td>Calibre 3000</td>\n",
       "      <td>Calibro 3000</td>\n",
       "      <td>.96ガロン</td>\n",
       "      <td>.96 Kaliter</td>\n",
       "      <td>Струевик .96</td>\n",
       "      <td>点96口径重枪</td>\n",
       "      <td>點96口徑重槍</td>\n",
       "    </tr>\n",
       "    <tr>\n",
       "      <th>3</th>\n",
       "      <td>shooter</td>\n",
       "      <td>shooter</td>\n",
       "      <td>96gal_deco</td>\n",
       "      <td>splashshield</td>\n",
       "      <td>chakuchi</td>\n",
       "      <td>96gal</td>\n",
       "      <td>96gal_deco</td>\n",
       "      <td>81</td>\n",
       "      <td>.96 Gallon Deko</td>\n",
       "      <td>.96 Gal Deco</td>\n",
       "      <td>...</td>\n",
       "      <td>Salpicadora 3000 DX</td>\n",
       "      <td>Salpicadora 3000 chic</td>\n",
       "      <td>Calibre 3000 chic</td>\n",
       "      <td>Calibre 3000 chic</td>\n",
       "      <td>Calibro 3000 DX</td>\n",
       "      <td>.96ガロンデコ</td>\n",
       "      <td>.96 Kaliter Deco</td>\n",
       "      <td>Струевик .96 «Деко»</td>\n",
       "      <td>点96口径重枪 Deco</td>\n",
       "      <td>點96口徑重槍 Deco</td>\n",
       "    </tr>\n",
       "    <tr>\n",
       "      <th>4</th>\n",
       "      <td>shooter</td>\n",
       "      <td>shooter</td>\n",
       "      <td>promodeler_mg</td>\n",
       "      <td>kyubanbomb</td>\n",
       "      <td>curlingbomb_pitcher</td>\n",
       "      <td>promodeler_mg</td>\n",
       "      <td>promodeler_mg</td>\n",
       "      <td>30</td>\n",
       "      <td>Airbrush MG</td>\n",
       "      <td>Aerospray MG</td>\n",
       "      <td>...</td>\n",
       "      <td>Aerógrafo pro</td>\n",
       "      <td>Aerógrafo GP</td>\n",
       "      <td>Pouche-pouche</td>\n",
       "      <td>Aérogun</td>\n",
       "      <td>Aerografo</td>\n",
       "      <td>プロモデラーMG</td>\n",
       "      <td>Kladderwerper</td>\n",
       "      <td>Аэроспрей</td>\n",
       "      <td>银色喷枪</td>\n",
       "      <td>銀色噴槍</td>\n",
       "    </tr>\n",
       "  </tbody>\n",
       "</table>\n",
       "<p>5 rows × 21 columns</p>\n",
       "</div>"
      ],
      "text/plain": [
       "  category1 category2            key     subweapon              special  \\\n",
       "0   shooter   shooter          52gal   pointsensor               sphere   \n",
       "1   shooter   shooter     52gal_deco   curlingbomb              presser   \n",
       "2   shooter   shooter          96gal     sprinkler                armor   \n",
       "3   shooter   shooter     96gal_deco  splashshield             chakuchi   \n",
       "4   shooter   shooter  promodeler_mg    kyubanbomb  curlingbomb_pitcher   \n",
       "\n",
       "      mainweapon         reskin  splatnet          [de-DE]       [en-GB]  \\\n",
       "0          52gal          52gal        50       .52 Gallon       .52 Gal   \n",
       "1          52gal     52gal_deco        51  .52 Gallon Deko  .52 Gal Deco   \n",
       "2          96gal          96gal        80       .96 Gallon       .96 Gal   \n",
       "3          96gal     96gal_deco        81  .96 Gallon Deko  .96 Gal Deco   \n",
       "4  promodeler_mg  promodeler_mg        30      Airbrush MG  Aerospray MG   \n",
       "\n",
       "       ...                   [es-ES]                [es-MX]  \\\n",
       "0      ...          Salpicadora 2000       Salpicadora 2000   \n",
       "1      ...       Salpicadora 2000 DX  Salpicadora 2000 chic   \n",
       "2      ...          Salpicadora 3000       Salpicadora 3000   \n",
       "3      ...       Salpicadora 3000 DX  Salpicadora 3000 chic   \n",
       "4      ...             Aerógrafo pro           Aerógrafo GP   \n",
       "\n",
       "             [fr-CA]            [fr-FR]          [it-IT]   [ja-JP]  \\\n",
       "0       Calibre 2000       Calibre 2000     Calibro 2000    .52ガロン   \n",
       "1  Calibre 2000 chic  Calibre 2000 chic  Calibro 2000 DX  .52ガロンデコ   \n",
       "2       Calibre 3000       Calibre 3000     Calibro 3000    .96ガロン   \n",
       "3  Calibre 3000 chic  Calibre 3000 chic  Calibro 3000 DX  .96ガロンデコ   \n",
       "4      Pouche-pouche            Aérogun        Aerografo  プロモデラーMG   \n",
       "\n",
       "            [nl-NL]              [ru-RU]       [zh-CN]       [zh-TW]  \n",
       "0       .52 Kaliter         Струевик .52       点52口径重枪       點52口徑重槍  \n",
       "1  .52 Kaliter Deco  Струевик .52 «Деко»  点52口径重枪 Deco  點52口徑重槍 Deco  \n",
       "2       .96 Kaliter         Струевик .96       点96口径重枪       點96口徑重槍  \n",
       "3  .96 Kaliter Deco  Струевик .96 «Деко»  点96口径重枪 Deco  點96口徑重槍 Deco  \n",
       "4     Kladderwerper            Аэроспрей          银色喷枪          銀色噴槍  \n",
       "\n",
       "[5 rows x 21 columns]"
      ]
     },
     "execution_count": 179,
     "metadata": {},
     "output_type": "execute_result"
    }
   ],
   "source": [
    "weapon.head()"
   ]
  },
  {
   "cell_type": "markdown",
   "metadata": {},
   "source": [
    "# stageを結合"
   ]
  },
  {
   "cell_type": "code",
   "execution_count": 180,
   "metadata": {
    "scrolled": false
   },
   "outputs": [
    {
     "data": {
      "text/plain": [
       "array(['ajifry', 'ama', 'anchovy', 'arowana', 'battera', 'bbass',\n",
       "       'chozame', 'devon', 'engawa', 'fujitsubo', 'gangaze', 'hakofugu',\n",
       "       'hokke', 'kombu', 'manta', 'mongara', 'mozuku', 'mutsugoro',\n",
       "       'otoro', 'shottsuru', 'sumeshi', 'tachiuo', 'zatou'], dtype=object)"
      ]
     },
     "execution_count": 180,
     "metadata": {},
     "output_type": "execute_result"
    }
   ],
   "source": [
    "# 表記揺れの確認\n",
    "np.sort(train['stage'].unique())"
   ]
  },
  {
   "cell_type": "code",
   "execution_count": 181,
   "metadata": {},
   "outputs": [
    {
     "data": {
      "text/plain": [
       "array(['ajifry', 'ama', 'anchovy', 'arowana', 'battera', 'bbass',\n",
       "       'chozame', 'devon', 'engawa', 'fujitsubo', 'gangaze', 'hakofugu',\n",
       "       'hokke', 'kombu', 'manta', 'mongara', 'mozuku', 'mutsugoro',\n",
       "       'otoro', 'shottsuru', 'sumeshi', 'tachiuo', 'zatou'], dtype=object)"
      ]
     },
     "execution_count": 181,
     "metadata": {},
     "output_type": "execute_result"
    }
   ],
   "source": [
    "np.sort(test['stage'].unique())"
   ]
  },
  {
   "cell_type": "code",
   "execution_count": 182,
   "metadata": {},
   "outputs": [
    {
     "data": {
      "text/plain": [
       "array(['ajifry', 'ama', 'anchovy', 'arowana', 'battera', 'bbass',\n",
       "       'chozame', 'devon', 'engawa', 'fujitsubo', 'gangaze', 'hakofugu',\n",
       "       'hokke', 'kombu', 'manta', 'mongara', 'mozuku', 'mutsugoro',\n",
       "       'otoro', 'shottsuru', 'sumeshi', 'tachiuo', 'zatou'], dtype=object)"
      ]
     },
     "execution_count": 182,
     "metadata": {},
     "output_type": "execute_result"
    }
   ],
   "source": [
    "np.sort(stage['stage'].unique())"
   ]
  },
  {
   "cell_type": "code",
   "execution_count": 183,
   "metadata": {},
   "outputs": [],
   "source": [
    "# 結合のため列名変更\n",
    "stage_r = stage.rename(columns = {'size':'stage_size1'})\n",
    "# 結合\n",
    "train_s = pd.merge(train, stage_r, on = 'stage', how = 'left')\n",
    "test_s = pd.merge(test, stage_r, on = 'stage', how = 'left')"
   ]
  },
  {
   "cell_type": "code",
   "execution_count": 184,
   "metadata": {},
   "outputs": [
    {
     "name": "stdout",
     "output_type": "stream",
     "text": [
      "stage_size1    0\n",
      "dtype: int64\n",
      "stage_size1    0\n",
      "dtype: int64\n"
     ]
    }
   ],
   "source": [
    "# null確認\n",
    "print(train_s[['stage_size1']].isnull().sum())\n",
    "print(test_s[['stage_size1']].isnull().sum())"
   ]
  },
  {
   "cell_type": "markdown",
   "metadata": {},
   "source": [
    "# stage2を結合"
   ]
  },
  {
   "cell_type": "code",
   "execution_count": 185,
   "metadata": {},
   "outputs": [
    {
     "data": {
      "text/plain": [
       "array(['ajifry', 'ama', 'anchovy', 'arowana', 'battera', 'bbass',\n",
       "       'chozame', 'devon', 'engawa', 'fujitsubo', 'gangaze', 'hakofugu',\n",
       "       'hokke', 'kombu', 'manta', 'mongara', 'mozuku', 'mutsugoro',\n",
       "       'otoro', 'shottsuru', 'sumeshi', 'tachiuo', 'zatou'], dtype=object)"
      ]
     },
     "execution_count": 185,
     "metadata": {},
     "output_type": "execute_result"
    }
   ],
   "source": [
    "# 表記揺れの確認\n",
    "np.sort(train['stage'].unique())"
   ]
  },
  {
   "cell_type": "code",
   "execution_count": 186,
   "metadata": {},
   "outputs": [
    {
     "data": {
      "text/plain": [
       "array(['ajifry', 'ama', 'anchovy', 'arowana', 'battera', 'bbass',\n",
       "       'chozame', 'devon', 'engawa', 'fujitsubo', 'gangaze', 'hakofugu',\n",
       "       'hokke', 'kombu', 'manta', 'mongara', 'mozuku', 'mutsugoro',\n",
       "       'otoro', 'shottsuru', 'sumeshi', 'tachiuo', 'zatou'], dtype=object)"
      ]
     },
     "execution_count": 186,
     "metadata": {},
     "output_type": "execute_result"
    }
   ],
   "source": [
    "np.sort(test['stage'].unique())"
   ]
  },
  {
   "cell_type": "code",
   "execution_count": 187,
   "metadata": {},
   "outputs": [
    {
     "data": {
      "text/plain": [
       "array(['ajifry', 'ama', 'anchovy', 'arowana', 'battera', 'bbass',\n",
       "       'chozame', 'devon', 'engawa', 'fujitsubo', 'gangaze', 'hakofugu',\n",
       "       'hokke', 'kombu', 'manta', 'mongara', 'mozuku', 'mutsugoro',\n",
       "       'mystery', 'mystery_01', 'mystery_02', 'mystery_03', 'mystery_04',\n",
       "       'mystery_05', 'mystery_06', 'mystery_07', 'mystery_08',\n",
       "       'mystery_09', 'mystery_10', 'mystery_11', 'mystery_12',\n",
       "       'mystery_13', 'mystery_14', 'mystery_15', 'mystery_16',\n",
       "       'mystery_17', 'mystery_18', 'mystery_19', 'mystery_20',\n",
       "       'mystery_21', 'mystery_22', 'mystery_23', 'mystery_24', 'otoro',\n",
       "       'shottsuru', 'sumeshi', 'tachiuo', 'zatou'], dtype=object)"
      ]
     },
     "execution_count": 187,
     "metadata": {},
     "output_type": "execute_result"
    }
   ],
   "source": [
    "# 「mystery~」はイベント時に解放されるステージ、今回のtrain,testデータには無し\n",
    "np.sort(stage2['key'].unique())"
   ]
  },
  {
   "cell_type": "code",
   "execution_count": 188,
   "metadata": {},
   "outputs": [],
   "source": [
    "# 結合のため列名変更\n",
    "stage2_r = stage2.rename(columns = {'key':'stage', 'area':'stage_size2'})\n",
    "# 結合\n",
    "train_ss = pd.merge(train_s, stage2_r, on = 'stage', how = 'left')\n",
    "test_ss = pd.merge(test_s, stage2_r, on = 'stage', how = 'left')"
   ]
  },
  {
   "cell_type": "code",
   "execution_count": 189,
   "metadata": {},
   "outputs": [
    {
     "name": "stdout",
     "output_type": "stream",
     "text": [
      "stage_size2    0\n",
      "dtype: int64\n",
      "stage_size2    0\n",
      "dtype: int64\n"
     ]
    }
   ],
   "source": [
    "# null確認\n",
    "print(train_ss[['stage_size2']].isnull().sum())\n",
    "print(test_ss[['stage_size2']].isnull().sum())"
   ]
  },
  {
   "cell_type": "markdown",
   "metadata": {},
   "source": [
    "# weaponを結合"
   ]
  },
  {
   "cell_type": "code",
   "execution_count": 190,
   "metadata": {},
   "outputs": [
    {
     "name": "stdout",
     "output_type": "stream",
     "text": [
      "139件\n",
      "['52gal', '52gal_becchu', '52gal_deco', '96gal', '96gal_deco', 'bamboo14mk1', 'bamboo14mk2', 'bamboo14mk3', 'barrelspinner', 'barrelspinner_deco', 'barrelspinner_remix', 'bold', 'bold_7', 'bold_neo', 'bottlegeyser', 'bottlegeyser_foil', 'bucketslosher', 'bucketslosher_deco', 'bucketslosher_soda', 'campingshelter', 'campingshelter_camo', 'campingshelter_sorella', 'carbon', 'carbon_deco', 'clashblaster', 'clashblaster_neo', 'dualsweeper', 'dualsweeper_custom', 'dynamo', 'dynamo_becchu', 'dynamo_tesla', 'explosher', 'explosher_custom', 'furo', 'furo_deco', 'h3reelgun', 'h3reelgun_cherry', 'h3reelgun_d', 'heroblaster_replica', 'herobrush_replica', 'herocharger_replica', 'heromaneuver_replica', 'heroroller_replica', 'heroshelter_replica', 'heroshooter_replica', 'heroslosher_replica', 'herospinner_replica', 'hissen', 'hissen_hue', 'hokusai', 'hokusai_becchu', 'hokusai_hue', 'hotblaster', 'hotblaster_custom', 'hydra', 'hydra_custom', 'jetsweeper', 'jetsweeper_custom', 'kelvin525', 'kelvin525_becchu', 'kelvin525_deco', 'kugelschreiber', 'kugelschreiber_hue', 'l3reelgun', 'l3reelgun_becchu', 'l3reelgun_d', 'liter4k', 'liter4k_custom', 'liter4k_scope', 'liter4k_scope_custom', 'longblaster', 'longblaster_custom', 'longblaster_necro', 'maneuver', 'maneuver_becchu', 'maneuver_collabo', 'momiji', 'nautilus47', 'nautilus79', 'nova', 'nova_becchu', 'nova_neo', 'nzap83', 'nzap85', 'nzap89', 'ochiba', 'octoshooter_replica', 'pablo', 'pablo_hue', 'pablo_permanent', 'parashelter', 'parashelter_sorella', 'prime', 'prime_becchu', 'prime_collabo', 'promodeler_mg', 'promodeler_pg', 'promodeler_rg', 'quadhopper_black', 'quadhopper_white', 'rapid', 'rapid_becchu', 'rapid_deco', 'rapid_elite', 'rapid_elite_deco', 'screwslosher', 'screwslosher_becchu', 'screwslosher_neo', 'sharp', 'sharp_neo', 'soytuber', 'soytuber_custom', 'splatcharger', 'splatcharger_becchu', 'splatcharger_collabo', 'splatroller', 'splatroller_becchu', 'splatroller_collabo', 'splatscope', 'splatscope_becchu', 'splatscope_collabo', 'splatspinner', 'splatspinner_becchu', 'splatspinner_collabo', 'sputtery', 'sputtery_clear', 'sputtery_hue', 'spygadget', 'spygadget_becchu', 'spygadget_sorella', 'squiclean_a', 'squiclean_b', 'squiclean_g', 'sshooter', 'sshooter_becchu', 'sshooter_collabo', 'variableroller', 'variableroller_foil', 'wakaba']\n"
     ]
    }
   ],
   "source": [
    "# trainのブキ\n",
    "train_weapon = sorted(list(set(train['A1-weapon'])&set(train['A2-weapon'])&set(train['A3-weapon'])&set(train['A4-weapon'])\\\n",
    "&set(train['B1-weapon'])&set(train['B2-weapon'])&set(train['B3-weapon'])&set(train['B4-weapon'])))\n",
    "print('{}件'.format(len(train_weapon)))\n",
    "print(train_weapon)"
   ]
  },
  {
   "cell_type": "code",
   "execution_count": 191,
   "metadata": {},
   "outputs": [
    {
     "name": "stdout",
     "output_type": "stream",
     "text": [
      "139件\n",
      "['52gal', '52gal_becchu', '52gal_deco', '96gal', '96gal_deco', 'bamboo14mk1', 'bamboo14mk2', 'bamboo14mk3', 'barrelspinner', 'barrelspinner_deco', 'barrelspinner_remix', 'bold', 'bold_7', 'bold_neo', 'bottlegeyser', 'bottlegeyser_foil', 'bucketslosher', 'bucketslosher_deco', 'bucketslosher_soda', 'campingshelter', 'campingshelter_camo', 'campingshelter_sorella', 'carbon', 'carbon_deco', 'clashblaster', 'clashblaster_neo', 'dualsweeper', 'dualsweeper_custom', 'dynamo', 'dynamo_becchu', 'dynamo_tesla', 'explosher', 'explosher_custom', 'furo', 'furo_deco', 'h3reelgun', 'h3reelgun_cherry', 'h3reelgun_d', 'heroblaster_replica', 'herobrush_replica', 'herocharger_replica', 'heromaneuver_replica', 'heroroller_replica', 'heroshelter_replica', 'heroshooter_replica', 'heroslosher_replica', 'herospinner_replica', 'hissen', 'hissen_hue', 'hokusai', 'hokusai_becchu', 'hokusai_hue', 'hotblaster', 'hotblaster_custom', 'hydra', 'hydra_custom', 'jetsweeper', 'jetsweeper_custom', 'kelvin525', 'kelvin525_becchu', 'kelvin525_deco', 'kugelschreiber', 'kugelschreiber_hue', 'l3reelgun', 'l3reelgun_becchu', 'l3reelgun_d', 'liter4k', 'liter4k_custom', 'liter4k_scope', 'liter4k_scope_custom', 'longblaster', 'longblaster_custom', 'longblaster_necro', 'maneuver', 'maneuver_becchu', 'maneuver_collabo', 'momiji', 'nautilus47', 'nautilus79', 'nova', 'nova_becchu', 'nova_neo', 'nzap83', 'nzap85', 'nzap89', 'ochiba', 'octoshooter_replica', 'pablo', 'pablo_hue', 'pablo_permanent', 'parashelter', 'parashelter_sorella', 'prime', 'prime_becchu', 'prime_collabo', 'promodeler_mg', 'promodeler_pg', 'promodeler_rg', 'quadhopper_black', 'quadhopper_white', 'rapid', 'rapid_becchu', 'rapid_deco', 'rapid_elite', 'rapid_elite_deco', 'screwslosher', 'screwslosher_becchu', 'screwslosher_neo', 'sharp', 'sharp_neo', 'soytuber', 'soytuber_custom', 'splatcharger', 'splatcharger_becchu', 'splatcharger_collabo', 'splatroller', 'splatroller_becchu', 'splatroller_collabo', 'splatscope', 'splatscope_becchu', 'splatscope_collabo', 'splatspinner', 'splatspinner_becchu', 'splatspinner_collabo', 'sputtery', 'sputtery_clear', 'sputtery_hue', 'spygadget', 'spygadget_becchu', 'spygadget_sorella', 'squiclean_a', 'squiclean_b', 'squiclean_g', 'sshooter', 'sshooter_becchu', 'sshooter_collabo', 'variableroller', 'variableroller_foil', 'wakaba']\n"
     ]
    }
   ],
   "source": [
    "# testのブキ\n",
    "test_weapon = sorted(list(set(test['A1-weapon'])&set(test['A2-weapon'])&set(test['A3-weapon'])&set(test['A4-weapon'])\\\n",
    "&set(test['B1-weapon'])&set(test['B2-weapon'])&set(test['B3-weapon'])&set(test['B4-weapon'])))\n",
    "print('{}件'.format(len(test_weapon)))\n",
    "print(test_weapon)"
   ]
  },
  {
   "cell_type": "code",
   "execution_count": 192,
   "metadata": {
    "scrolled": false
   },
   "outputs": [
    {
     "name": "stdout",
     "output_type": "stream",
     "text": [
      "139件\n",
      "['52gal' '52gal_becchu' '52gal_deco' '96gal' '96gal_deco' 'bamboo14mk1'\n",
      " 'bamboo14mk2' 'bamboo14mk3' 'barrelspinner' 'barrelspinner_deco'\n",
      " 'barrelspinner_remix' 'bold' 'bold_7' 'bold_neo' 'bottlegeyser'\n",
      " 'bottlegeyser_foil' 'bucketslosher' 'bucketslosher_deco'\n",
      " 'bucketslosher_soda' 'campingshelter' 'campingshelter_camo'\n",
      " 'campingshelter_sorella' 'carbon' 'carbon_deco' 'clashblaster'\n",
      " 'clashblaster_neo' 'dualsweeper' 'dualsweeper_custom' 'dynamo'\n",
      " 'dynamo_becchu' 'dynamo_tesla' 'explosher' 'explosher_custom' 'furo'\n",
      " 'furo_deco' 'h3reelgun' 'h3reelgun_cherry' 'h3reelgun_d'\n",
      " 'heroblaster_replica' 'herobrush_replica' 'herocharger_replica'\n",
      " 'heromaneuver_replica' 'heroroller_replica' 'heroshelter_replica'\n",
      " 'heroshooter_replica' 'heroslosher_replica' 'herospinner_replica'\n",
      " 'hissen' 'hissen_hue' 'hokusai' 'hokusai_becchu' 'hokusai_hue'\n",
      " 'hotblaster' 'hotblaster_custom' 'hydra' 'hydra_custom' 'jetsweeper'\n",
      " 'jetsweeper_custom' 'kelvin525' 'kelvin525_becchu' 'kelvin525_deco'\n",
      " 'kugelschreiber' 'kugelschreiber_hue' 'l3reelgun' 'l3reelgun_becchu'\n",
      " 'l3reelgun_d' 'liter4k' 'liter4k_custom' 'liter4k_scope'\n",
      " 'liter4k_scope_custom' 'longblaster' 'longblaster_custom'\n",
      " 'longblaster_necro' 'maneuver' 'maneuver_becchu' 'maneuver_collabo'\n",
      " 'momiji' 'nautilus47' 'nautilus79' 'nova' 'nova_becchu' 'nova_neo'\n",
      " 'nzap83' 'nzap85' 'nzap89' 'ochiba' 'octoshooter_replica' 'pablo'\n",
      " 'pablo_hue' 'pablo_permanent' 'parashelter' 'parashelter_sorella' 'prime'\n",
      " 'prime_becchu' 'prime_collabo' 'promodeler_mg' 'promodeler_pg'\n",
      " 'promodeler_rg' 'quadhopper_black' 'quadhopper_white' 'rapid'\n",
      " 'rapid_becchu' 'rapid_deco' 'rapid_elite' 'rapid_elite_deco'\n",
      " 'screwslosher' 'screwslosher_becchu' 'screwslosher_neo' 'sharp'\n",
      " 'sharp_neo' 'soytuber' 'soytuber_custom' 'splatcharger'\n",
      " 'splatcharger_becchu' 'splatcharger_collabo' 'splatroller'\n",
      " 'splatroller_becchu' 'splatroller_collabo' 'splatscope'\n",
      " 'splatscope_becchu' 'splatscope_collabo' 'splatspinner'\n",
      " 'splatspinner_becchu' 'splatspinner_collabo' 'sputtery' 'sputtery_clear'\n",
      " 'sputtery_hue' 'spygadget' 'spygadget_becchu' 'spygadget_sorella'\n",
      " 'squiclean_a' 'squiclean_b' 'squiclean_g' 'sshooter' 'sshooter_becchu'\n",
      " 'sshooter_collabo' 'variableroller' 'variableroller_foil' 'wakaba']\n"
     ]
    }
   ],
   "source": [
    "# 外部データのブキ\n",
    "gaibu_weapon = train_weapon = np.sort(weapon['key'].unique())\n",
    "print('{}件'.format(len(gaibu_weapon)))\n",
    "print(gaibu_weapon)"
   ]
  },
  {
   "cell_type": "code",
   "execution_count": 193,
   "metadata": {},
   "outputs": [
    {
     "name": "stdout",
     "output_type": "stream",
     "text": [
      "Empty DataFrame\n",
      "Columns: [train_weapon, test_weapon, gaibu_weapon]\n",
      "Index: []\n",
      "Empty DataFrame\n",
      "Columns: [train_weapon, test_weapon, gaibu_weapon]\n",
      "Index: []\n"
     ]
    }
   ],
   "source": [
    "# 表記に違いがないかソートして比較→無し\n",
    "comp_w = pd.DataFrame({'train_weapon': train_weapon,'test_weapon': train_weapon,'gaibu_weapon':gaibu_weapon})\n",
    "print(comp_w[comp_w['train_weapon'] != comp_w['gaibu_weapon']])\n",
    "print(comp_w[comp_w['test_weapon'] != comp_w['gaibu_weapon']])"
   ]
  },
  {
   "cell_type": "code",
   "execution_count": 194,
   "metadata": {},
   "outputs": [
    {
     "data": {
      "text/html": [
       "<div>\n",
       "<style scoped>\n",
       "    .dataframe tbody tr th:only-of-type {\n",
       "        vertical-align: middle;\n",
       "    }\n",
       "\n",
       "    .dataframe tbody tr th {\n",
       "        vertical-align: top;\n",
       "    }\n",
       "\n",
       "    .dataframe thead th {\n",
       "        text-align: right;\n",
       "    }\n",
       "</style>\n",
       "<table border=\"1\" class=\"dataframe\">\n",
       "  <thead>\n",
       "    <tr style=\"text-align: right;\">\n",
       "      <th></th>\n",
       "      <th>category1</th>\n",
       "      <th>category2</th>\n",
       "      <th>weapon</th>\n",
       "      <th>subweapon</th>\n",
       "      <th>special</th>\n",
       "      <th>mainweapon</th>\n",
       "      <th>reskin</th>\n",
       "    </tr>\n",
       "  </thead>\n",
       "  <tbody>\n",
       "    <tr>\n",
       "      <th>0</th>\n",
       "      <td>shooter</td>\n",
       "      <td>shooter</td>\n",
       "      <td>52gal</td>\n",
       "      <td>pointsensor</td>\n",
       "      <td>sphere</td>\n",
       "      <td>52gal</td>\n",
       "      <td>52gal</td>\n",
       "    </tr>\n",
       "    <tr>\n",
       "      <th>1</th>\n",
       "      <td>shooter</td>\n",
       "      <td>shooter</td>\n",
       "      <td>52gal_deco</td>\n",
       "      <td>curlingbomb</td>\n",
       "      <td>presser</td>\n",
       "      <td>52gal</td>\n",
       "      <td>52gal_deco</td>\n",
       "    </tr>\n",
       "  </tbody>\n",
       "</table>\n",
       "</div>"
      ],
      "text/plain": [
       "  category1 category2      weapon    subweapon  special mainweapon      reskin\n",
       "0   shooter   shooter       52gal  pointsensor   sphere      52gal       52gal\n",
       "1   shooter   shooter  52gal_deco  curlingbomb  presser      52gal  52gal_deco"
      ]
     },
     "execution_count": 194,
     "metadata": {},
     "output_type": "execute_result"
    }
   ],
   "source": [
    "# 必要カラム\n",
    "# 参照：https://stat.ink/api-info/weapon2\n",
    "weapon_col = ['category1', # ブキ区分\n",
    "              'category2', # ブキ区分\n",
    "              'key', # ブキ名\n",
    "              'subweapon', # サブウェポン\n",
    "              'special', # スペシャルウェポン\n",
    "              'mainweapon', # メインブキ\n",
    "              'reskin', # 同一性能のブキ\n",
    "#              'splatnet', # アプリID\n",
    "# 以下外国語ブキ名\n",
    "#               '[de-DE]', '[en-GB]', '[en-US]', '[es-ES]','[es-MX]', '[fr-CA]', \n",
    "#               '[fr-FR]', '[it-IT]', '[ja-JP]', '[nl-NL]','[ru-RU]', '[zh-CN]', '[zh-TW]'   \n",
    "]\n",
    "# 必要カラム抽出＆結合キー名変更\n",
    "weapon_c = weapon[weapon_col].rename(columns = {'key': 'weapon'})\n",
    "weapon_c.head(2)"
   ]
  },
  {
   "cell_type": "code",
   "execution_count": 195,
   "metadata": {},
   "outputs": [
    {
     "name": "stdout",
     "output_type": "stream",
     "text": [
      "A1-category1     False\n",
      "A1-category2     False\n",
      "A1-weapon        False\n",
      "A1-subweapon     False\n",
      "A1-special       False\n",
      "A1-mainweapon    False\n",
      "A1-reskin        False\n",
      "dtype: bool\n",
      "A1-category1     False\n",
      "A1-category2     False\n",
      "A1-weapon        False\n",
      "A1-subweapon     False\n",
      "A1-special       False\n",
      "A1-mainweapon    False\n",
      "A1-reskin        False\n",
      "dtype: bool\n",
      "A2-category1     False\n",
      "A2-category2     False\n",
      "A2-weapon        False\n",
      "A2-subweapon     False\n",
      "A2-special       False\n",
      "A2-mainweapon    False\n",
      "A2-reskin        False\n",
      "dtype: bool\n",
      "A2-category1     False\n",
      "A2-category2     False\n",
      "A2-weapon        False\n",
      "A2-subweapon     False\n",
      "A2-special       False\n",
      "A2-mainweapon    False\n",
      "A2-reskin        False\n",
      "dtype: bool\n",
      "A3-category1     False\n",
      "A3-category2     False\n",
      "A3-weapon        False\n",
      "A3-subweapon     False\n",
      "A3-special       False\n",
      "A3-mainweapon    False\n",
      "A3-reskin        False\n",
      "dtype: bool\n",
      "A3-category1     False\n",
      "A3-category2     False\n",
      "A3-weapon        False\n",
      "A3-subweapon     False\n",
      "A3-special       False\n",
      "A3-mainweapon    False\n",
      "A3-reskin        False\n",
      "dtype: bool\n",
      "A4-category1     True\n",
      "A4-category2     True\n",
      "A4-weapon        True\n",
      "A4-subweapon     True\n",
      "A4-special       True\n",
      "A4-mainweapon    True\n",
      "A4-reskin        True\n",
      "dtype: bool\n",
      "A4-category1     True\n",
      "A4-category2     True\n",
      "A4-weapon        True\n",
      "A4-subweapon     True\n",
      "A4-special       True\n",
      "A4-mainweapon    True\n",
      "A4-reskin        True\n",
      "dtype: bool\n",
      "B1-category1     False\n",
      "B1-category2     False\n",
      "B1-weapon        False\n",
      "B1-subweapon     False\n",
      "B1-special       False\n",
      "B1-mainweapon    False\n",
      "B1-reskin        False\n",
      "dtype: bool\n",
      "B1-category1     False\n",
      "B1-category2     False\n",
      "B1-weapon        False\n",
      "B1-subweapon     False\n",
      "B1-special       False\n",
      "B1-mainweapon    False\n",
      "B1-reskin        False\n",
      "dtype: bool\n",
      "B2-category1     False\n",
      "B2-category2     False\n",
      "B2-weapon        False\n",
      "B2-subweapon     False\n",
      "B2-special       False\n",
      "B2-mainweapon    False\n",
      "B2-reskin        False\n",
      "dtype: bool\n",
      "B2-category1     False\n",
      "B2-category2     False\n",
      "B2-weapon        False\n",
      "B2-subweapon     False\n",
      "B2-special       False\n",
      "B2-mainweapon    False\n",
      "B2-reskin        False\n",
      "dtype: bool\n",
      "B3-category1     True\n",
      "B3-category2     True\n",
      "B3-weapon        True\n",
      "B3-subweapon     True\n",
      "B3-special       True\n",
      "B3-mainweapon    True\n",
      "B3-reskin        True\n",
      "dtype: bool\n",
      "B3-category1     True\n",
      "B3-category2     True\n",
      "B3-weapon        True\n",
      "B3-subweapon     True\n",
      "B3-special       True\n",
      "B3-mainweapon    True\n",
      "B3-reskin        True\n",
      "dtype: bool\n",
      "B4-category1     True\n",
      "B4-category2     True\n",
      "B4-weapon        True\n",
      "B4-subweapon     True\n",
      "B4-special       True\n",
      "B4-mainweapon    True\n",
      "B4-reskin        True\n",
      "dtype: bool\n",
      "B4-category1     True\n",
      "B4-category2     True\n",
      "B4-weapon        True\n",
      "B4-subweapon     True\n",
      "B4-special       True\n",
      "B4-mainweapon    True\n",
      "B4-reskin        True\n",
      "dtype: bool\n"
     ]
    }
   ],
   "source": [
    "# 各A1~B4ブキに対して結合\n",
    "weapon_cc = weapon_c.copy()\n",
    "train_ssw = train_ss.copy()\n",
    "test_ssw = test_ss.copy()\n",
    "import itertools\n",
    "for a,num in itertools.product(['A','B'],[1,2,3,4]):\n",
    "    col_list = []\n",
    "    # ブキのカラム名の先頭にA1~B4追加\n",
    "    for col in weapon_c.columns:\n",
    "        tmp_col = a+str(num) + '-' + col\n",
    "        col_list.append(tmp_col)\n",
    "    weapon_cc.columns = col_list\n",
    "    #train,testに結合\n",
    "    train_ssw = pd.merge(train_ssw, weapon_cc, on = a+str(num) + '-weapon', how = 'left')\n",
    "    test_ssw = pd.merge(test_ssw, weapon_cc, on = a+str(num) + '-weapon', how = 'left')\n",
    "    # 結合後nullチェック\n",
    "    print(train_ssw[col_list].isnull().sum() != 0)\n",
    "    print(test_ssw[col_list].isnull().sum() != 0)\n",
    "    "
   ]
  },
  {
   "cell_type": "code",
   "execution_count": 196,
   "metadata": {},
   "outputs": [
    {
     "data": {
      "text/html": [
       "<div>\n",
       "<style scoped>\n",
       "    .dataframe tbody tr th:only-of-type {\n",
       "        vertical-align: middle;\n",
       "    }\n",
       "\n",
       "    .dataframe tbody tr th {\n",
       "        vertical-align: top;\n",
       "    }\n",
       "\n",
       "    .dataframe thead th {\n",
       "        text-align: right;\n",
       "    }\n",
       "</style>\n",
       "<table border=\"1\" class=\"dataframe\">\n",
       "  <thead>\n",
       "    <tr style=\"text-align: right;\">\n",
       "      <th></th>\n",
       "      <th>id</th>\n",
       "      <th>period</th>\n",
       "      <th>game-ver</th>\n",
       "      <th>lobby-mode</th>\n",
       "      <th>lobby</th>\n",
       "      <th>mode</th>\n",
       "      <th>stage</th>\n",
       "      <th>A1-weapon</th>\n",
       "      <th>A1-rank</th>\n",
       "      <th>A1-level</th>\n",
       "      <th>...</th>\n",
       "      <th>B3-subweapon</th>\n",
       "      <th>B3-special</th>\n",
       "      <th>B3-mainweapon</th>\n",
       "      <th>B3-reskin</th>\n",
       "      <th>B4-category1</th>\n",
       "      <th>B4-category2</th>\n",
       "      <th>B4-subweapon</th>\n",
       "      <th>B4-special</th>\n",
       "      <th>B4-mainweapon</th>\n",
       "      <th>B4-reskin</th>\n",
       "    </tr>\n",
       "  </thead>\n",
       "  <tbody>\n",
       "    <tr>\n",
       "      <th>0</th>\n",
       "      <td>1</td>\n",
       "      <td>2019-10-15T20:00:00+00:00</td>\n",
       "      <td>5.0.1</td>\n",
       "      <td>regular</td>\n",
       "      <td>standard</td>\n",
       "      <td>nawabari</td>\n",
       "      <td>sumeshi</td>\n",
       "      <td>sshooter_becchu</td>\n",
       "      <td>NaN</td>\n",
       "      <td>139</td>\n",
       "      <td>...</td>\n",
       "      <td>splashbomb</td>\n",
       "      <td>presser</td>\n",
       "      <td>splatcharger</td>\n",
       "      <td>splatcharger</td>\n",
       "      <td>shooter</td>\n",
       "      <td>shooter</td>\n",
       "      <td>quickbomb</td>\n",
       "      <td>kyubanbomb_pitcher</td>\n",
       "      <td>sharp</td>\n",
       "      <td>sharp_neo</td>\n",
       "    </tr>\n",
       "    <tr>\n",
       "      <th>1</th>\n",
       "      <td>2</td>\n",
       "      <td>2019-12-14T04:00:00+00:00</td>\n",
       "      <td>5.0.1</td>\n",
       "      <td>regular</td>\n",
       "      <td>standard</td>\n",
       "      <td>nawabari</td>\n",
       "      <td>arowana</td>\n",
       "      <td>parashelter_sorella</td>\n",
       "      <td>NaN</td>\n",
       "      <td>198</td>\n",
       "      <td>...</td>\n",
       "      <td>jumpbeacon</td>\n",
       "      <td>bubble</td>\n",
       "      <td>campingshelter</td>\n",
       "      <td>campingshelter</td>\n",
       "      <td>shooter</td>\n",
       "      <td>maneuver</td>\n",
       "      <td>torpedo</td>\n",
       "      <td>chakuchi</td>\n",
       "      <td>sputtery</td>\n",
       "      <td>sputtery_clear</td>\n",
       "    </tr>\n",
       "  </tbody>\n",
       "</table>\n",
       "<p>2 rows × 86 columns</p>\n",
       "</div>"
      ],
      "text/plain": [
       "   id                     period game-ver lobby-mode     lobby      mode  \\\n",
       "0   1  2019-10-15T20:00:00+00:00    5.0.1    regular  standard  nawabari   \n",
       "1   2  2019-12-14T04:00:00+00:00    5.0.1    regular  standard  nawabari   \n",
       "\n",
       "     stage            A1-weapon A1-rank  A1-level       ...        \\\n",
       "0  sumeshi      sshooter_becchu     NaN       139       ...         \n",
       "1  arowana  parashelter_sorella     NaN       198       ...         \n",
       "\n",
       "  B3-subweapon B3-special   B3-mainweapon       B3-reskin B4-category1  \\\n",
       "0   splashbomb    presser    splatcharger    splatcharger      shooter   \n",
       "1   jumpbeacon     bubble  campingshelter  campingshelter      shooter   \n",
       "\n",
       "   B4-category2 B4-subweapon          B4-special  B4-mainweapon  \\\n",
       "0       shooter    quickbomb  kyubanbomb_pitcher          sharp   \n",
       "1      maneuver      torpedo            chakuchi       sputtery   \n",
       "\n",
       "        B4-reskin  \n",
       "0       sharp_neo  \n",
       "1  sputtery_clear  \n",
       "\n",
       "[2 rows x 86 columns]"
      ]
     },
     "execution_count": 196,
     "metadata": {},
     "output_type": "execute_result"
    }
   ],
   "source": [
    "train_ssw.head(2)"
   ]
  },
  {
   "cell_type": "code",
   "execution_count": 197,
   "metadata": {},
   "outputs": [
    {
     "data": {
      "text/html": [
       "<div>\n",
       "<style scoped>\n",
       "    .dataframe tbody tr th:only-of-type {\n",
       "        vertical-align: middle;\n",
       "    }\n",
       "\n",
       "    .dataframe tbody tr th {\n",
       "        vertical-align: top;\n",
       "    }\n",
       "\n",
       "    .dataframe thead th {\n",
       "        text-align: right;\n",
       "    }\n",
       "</style>\n",
       "<table border=\"1\" class=\"dataframe\">\n",
       "  <thead>\n",
       "    <tr style=\"text-align: right;\">\n",
       "      <th></th>\n",
       "      <th>id</th>\n",
       "      <th>period</th>\n",
       "      <th>game-ver</th>\n",
       "      <th>lobby-mode</th>\n",
       "      <th>lobby</th>\n",
       "      <th>mode</th>\n",
       "      <th>stage</th>\n",
       "      <th>A1-weapon</th>\n",
       "      <th>A1-rank</th>\n",
       "      <th>A1-level</th>\n",
       "      <th>...</th>\n",
       "      <th>B3-subweapon</th>\n",
       "      <th>B3-special</th>\n",
       "      <th>B3-mainweapon</th>\n",
       "      <th>B3-reskin</th>\n",
       "      <th>B4-category1</th>\n",
       "      <th>B4-category2</th>\n",
       "      <th>B4-subweapon</th>\n",
       "      <th>B4-special</th>\n",
       "      <th>B4-mainweapon</th>\n",
       "      <th>B4-reskin</th>\n",
       "    </tr>\n",
       "  </thead>\n",
       "  <tbody>\n",
       "    <tr>\n",
       "      <th>0</th>\n",
       "      <td>1</td>\n",
       "      <td>2019-12-17T12:00:00+00:00</td>\n",
       "      <td>5.0.1</td>\n",
       "      <td>gachi</td>\n",
       "      <td>standard</td>\n",
       "      <td>area</td>\n",
       "      <td>hakofugu</td>\n",
       "      <td>prime_collabo</td>\n",
       "      <td>x</td>\n",
       "      <td>174</td>\n",
       "      <td>...</td>\n",
       "      <td>quickbomb</td>\n",
       "      <td>jetpack</td>\n",
       "      <td>l3reelgun</td>\n",
       "      <td>l3reelgun_d</td>\n",
       "      <td>shooter</td>\n",
       "      <td>shooter</td>\n",
       "      <td>robotbomb</td>\n",
       "      <td>missile</td>\n",
       "      <td>nzap85</td>\n",
       "      <td>nzap89</td>\n",
       "    </tr>\n",
       "    <tr>\n",
       "      <th>1</th>\n",
       "      <td>2</td>\n",
       "      <td>2019-11-25T16:00:00+00:00</td>\n",
       "      <td>5.0.1</td>\n",
       "      <td>gachi</td>\n",
       "      <td>standard</td>\n",
       "      <td>asari</td>\n",
       "      <td>anchovy</td>\n",
       "      <td>prime_becchu</td>\n",
       "      <td>s+</td>\n",
       "      <td>363</td>\n",
       "      <td>...</td>\n",
       "      <td>splashbomb</td>\n",
       "      <td>nicedama</td>\n",
       "      <td>prime</td>\n",
       "      <td>prime_becchu</td>\n",
       "      <td>roller</td>\n",
       "      <td>roller</td>\n",
       "      <td>curlingbomb</td>\n",
       "      <td>chakuchi</td>\n",
       "      <td>splatroller</td>\n",
       "      <td>splatroller</td>\n",
       "    </tr>\n",
       "  </tbody>\n",
       "</table>\n",
       "<p>2 rows × 85 columns</p>\n",
       "</div>"
      ],
      "text/plain": [
       "   id                     period game-ver lobby-mode     lobby   mode  \\\n",
       "0   1  2019-12-17T12:00:00+00:00    5.0.1      gachi  standard   area   \n",
       "1   2  2019-11-25T16:00:00+00:00    5.0.1      gachi  standard  asari   \n",
       "\n",
       "      stage      A1-weapon A1-rank  A1-level     ...      B3-subweapon  \\\n",
       "0  hakofugu  prime_collabo       x       174     ...         quickbomb   \n",
       "1   anchovy   prime_becchu      s+       363     ...        splashbomb   \n",
       "\n",
       "  B3-special  B3-mainweapon     B3-reskin B4-category1  B4-category2  \\\n",
       "0    jetpack      l3reelgun   l3reelgun_d      shooter       shooter   \n",
       "1   nicedama          prime  prime_becchu       roller        roller   \n",
       "\n",
       "  B4-subweapon B4-special  B4-mainweapon    B4-reskin  \n",
       "0    robotbomb    missile         nzap85       nzap89  \n",
       "1  curlingbomb   chakuchi    splatroller  splatroller  \n",
       "\n",
       "[2 rows x 85 columns]"
      ]
     },
     "execution_count": 197,
     "metadata": {},
     "output_type": "execute_result"
    }
   ],
   "source": [
    "test_ssw.head(2)"
   ]
  },
  {
   "cell_type": "code",
   "execution_count": 199,
   "metadata": {},
   "outputs": [],
   "source": [
    "# 保存\n",
    "train_ssw.to_csv('../data/train_data_v1.1.csv', index = False)\n",
    "test_ssw.to_csv('../data/test_data_v1.1.csv', index = False)"
   ]
  },
  {
   "cell_type": "code",
   "execution_count": null,
   "metadata": {},
   "outputs": [],
   "source": []
  }
 ],
 "metadata": {
  "kernelspec": {
   "display_name": "Python 3",
   "language": "python",
   "name": "python3"
  },
  "language_info": {
   "codemirror_mode": {
    "name": "ipython",
    "version": 3
   },
   "file_extension": ".py",
   "mimetype": "text/x-python",
   "name": "python",
   "nbconvert_exporter": "python",
   "pygments_lexer": "ipython3",
   "version": "3.6.5"
  }
 },
 "nbformat": 4,
 "nbformat_minor": 2
}
